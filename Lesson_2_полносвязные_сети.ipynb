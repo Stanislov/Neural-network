{
  "nbformat": 4,
  "nbformat_minor": 0,
  "metadata": {
    "colab": {
      "name": "HW_2a.ipynb",
      "provenance": [],
      "collapsed_sections": [
        "CF2kmTm_ggp1",
        "Bs2CqI5VuO0Y",
        "LLVTO4a9rKhM",
        "YwMV2vNN5pap"
      ]
    },
    "kernelspec": {
      "name": "python3",
      "display_name": "Python 3"
    }
  },
  "cells": [
    {
      "cell_type": "markdown",
      "metadata": {
        "id": "LjNBrGrZufjd"
      },
      "source": [
        "# Лайт, вариант 2"
      ]
    },
    {
      "cell_type": "code",
      "metadata": {
        "id": "Hu0GZWDridjw"
      },
      "source": [
        "# импортируем библиотеки\n",
        "from tensorflow.keras.datasets import mnist # import MNIST!\n",
        "from tensorflow.keras.models import Sequential # модель Sequential\n",
        "from tensorflow.keras.layers import Dense, Activation, Dropout, BatchNormalization # слои\n",
        "from tensorflow.keras.optimizers import Adam # optimizer\n",
        "from tensorflow.keras import utils # for to_categorial\n",
        "from tensorflow.keras.preprocessing import image # image\n",
        "\n",
        "import numpy as np\n",
        "import pylab\n",
        "from mpl_toolkits.mplot3d import Axes3D\n",
        "from google.colab import files\n",
        "import matplotlib.pyplot as plt\n",
        "from PIL import Image\n",
        "\n",
        "%matplotlib inline\n"
      ],
      "execution_count": null,
      "outputs": []
    },
    {
      "cell_type": "markdown",
      "metadata": {
        "id": "Wb1c65eF0qz9"
      },
      "source": [
        "# MNIST"
      ]
    },
    {
      "cell_type": "markdown",
      "metadata": {
        "id": "Lnquunp6DtqZ"
      },
      "source": [
        "### Подготовка"
      ]
    },
    {
      "cell_type": "code",
      "metadata": {
        "id": "EL6kLsRwslty",
        "outputId": "1c331c3a-79d1-4a58-9a02-86b061c060c7",
        "colab": {
          "base_uri": "https://localhost:8080/",
          "height": 51
        }
      },
      "source": [
        "(x_train_org, y_train_org), (x_test_org, y_test_org) = mnist.load_data() #Загрузка данных Mnist"
      ],
      "execution_count": null,
      "outputs": [
        {
          "output_type": "stream",
          "text": [
            "Downloading data from https://storage.googleapis.com/tensorflow/tf-keras-datasets/mnist.npz\n",
            "11493376/11490434 [==============================] - 0s 0us/step\n"
          ],
          "name": "stdout"
        }
      ]
    },
    {
      "cell_type": "code",
      "metadata": {
        "id": "cDwK8L0w1Biy"
      },
      "source": [
        "x_train_org[16] # вывод массивом значений каждого пикселя"
      ],
      "execution_count": null,
      "outputs": []
    },
    {
      "cell_type": "code",
      "metadata": {
        "id": "BMaXIIAh08qX",
        "outputId": "098ca834-033a-4b61-a48c-e84064709be7",
        "colab": {
          "base_uri": "https://localhost:8080/",
          "height": 265
        }
      },
      "source": [
        "n = 25 #картинка\n",
        "plt.imshow(x_train_org[n], cmap='viridis') #Отрисовка картинки\n",
        "plt.show() # Вывод"
      ],
      "execution_count": null,
      "outputs": [
        {
          "output_type": "display_data",
          "data": {
            "image/png": "[encoded data removed]",
            "text/plain": [
              "<Figure size 432x288 with 1 Axes>"
            ]
          },
          "metadata": {
            "tags": [],
            "needs_background": "light"
          }
        }
      ]
    },
    {
      "cell_type": "code",
      "metadata": {
        "id": "WVHWciqb1evL",
        "outputId": "640be986-9a4e-445c-df19-d86e463a05f9",
        "colab": {
          "base_uri": "https://localhost:8080/",
          "height": 833
        }
      },
      "source": [
        "#Меняем формат входных картинок с 28х28 на 784х1\n",
        "# Получаем: (60000, 28, 28) и (60000, 784)\n",
        "x_train = x_train_org.reshape(60000, 784)\n",
        "x_test = x_test_org.reshape(10000, 784)\n",
        "print(x_train_org.shape)\n",
        "print(x_train.shape)\n",
        "print(x_test.shape)\n",
        "print ('----------------------------------------')\n",
        "#print (x_train[1])"
      ],
      "execution_count": null,
      "outputs": [
        {
          "output_type": "stream",
          "text": [
            "(60000, 28, 28)\n",
            "(60000, 784)\n",
            "(10000, 784)\n",
            "----------------------------------------\n",
            "[  0   0   0   0   0   0   0   0   0   0   0   0   0   0   0   0   0   0\n",
            "   0   0   0   0   0   0   0   0   0   0   0   0   0   0   0   0   0   0\n",
            "   0   0   0   0   0   0   0   0   0   0   0   0   0   0   0   0   0   0\n",
            "   0   0   0   0   0   0   0   0   0   0   0   0   0   0   0   0   0   0\n",
            "   0   0   0   0   0   0   0   0   0   0   0   0   0   0   0   0   0   0\n",
            "   0   0   0   0   0   0   0   0   0   0   0   0   0   0   0   0   0   0\n",
            "   0   0   0   0   0   0   0   0   0   0   0   0   0   0   0   0   0   0\n",
            "   0  51 159 253 159  50   0   0   0   0   0   0   0   0   0   0   0   0\n",
            "   0   0   0   0   0   0   0   0   0   0  48 238 252 252 252 237   0   0\n",
            "   0   0   0   0   0   0   0   0   0   0   0   0   0   0   0   0   0   0\n",
            "   0  54 227 253 252 239 233 252  57   6   0   0   0   0   0   0   0   0\n",
            "   0   0   0   0   0   0   0   0   0  10  60 224 252 253 252 202  84 252\n",
            " 253 122   0   0   0   0   0   0   0   0   0   0   0   0   0   0   0   0\n",
            "   0 163 252 252 252 253 252 252  96 189 253 167   0   0   0   0   0   0\n",
            "   0   0   0   0   0   0   0   0   0   0  51 238 253 253 190 114 253 228\n",
            "  47  79 255 168   0   0   0   0   0   0   0   0   0   0   0   0   0   0\n",
            "   0  48 238 252 252 179  12  75 121  21   0   0 253 243  50   0   0   0\n",
            "   0   0   0   0   0   0   0   0   0   0  38 165 253 233 208  84   0   0\n",
            "   0   0   0   0 253 252 165   0   0   0   0   0   0   0   0   0   0   0\n",
            "   0   7 178 252 240  71  19  28   0   0   0   0   0   0 253 252 195   0\n",
            "   0   0   0   0   0   0   0   0   0   0   0  57 252 252  63   0   0   0\n",
            "   0   0   0   0   0   0 253 252 195   0   0   0   0   0   0   0   0   0\n",
            "   0   0   0 198 253 190   0   0   0   0   0   0   0   0   0   0 255 253\n",
            " 196   0   0   0   0   0   0   0   0   0   0   0  76 246 252 112   0   0\n",
            "   0   0   0   0   0   0   0   0 253 252 148   0   0   0   0   0   0   0\n",
            "   0   0   0   0  85 252 230  25   0   0   0   0   0   0   0   0   7 135\n",
            " 253 186  12   0   0   0   0   0   0   0   0   0   0   0  85 252 223   0\n",
            "   0   0   0   0   0   0   0   7 131 252 225  71   0   0   0   0   0   0\n",
            "   0   0   0   0   0   0  85 252 145   0   0   0   0   0   0   0  48 165\n",
            " 252 173   0   0   0   0   0   0   0   0   0   0   0   0   0   0  86 253\n",
            " 225   0   0   0   0   0   0 114 238 253 162   0   0   0   0   0   0   0\n",
            "   0   0   0   0   0   0   0   0  85 252 249 146  48  29  85 178 225 253\n",
            " 223 167  56   0   0   0   0   0   0   0   0   0   0   0   0   0   0   0\n",
            "  85 252 252 252 229 215 252 252 252 196 130   0   0   0   0   0   0   0\n",
            "   0   0   0   0   0   0   0   0   0   0  28 199 252 252 253 252 252 233\n",
            " 145   0   0   0   0   0   0   0   0   0   0   0   0   0   0   0   0   0\n",
            "   0   0   0  25 128 252 253 252 141  37   0   0   0   0   0   0   0   0\n",
            "   0   0   0   0   0   0   0   0   0   0   0   0   0   0   0   0   0   0\n",
            "   0   0   0   0   0   0   0   0   0   0   0   0   0   0   0   0   0   0\n",
            "   0   0   0   0   0   0   0   0   0   0   0   0   0   0   0   0   0   0\n",
            "   0   0   0   0   0   0   0   0   0   0   0   0   0   0   0   0   0   0\n",
            "   0   0   0   0   0   0   0   0   0   0   0   0   0   0   0   0   0   0\n",
            "   0   0   0   0   0   0   0   0   0   0   0   0   0   0   0   0   0   0\n",
            "   0   0   0   0   0   0   0   0   0   0]\n"
          ],
          "name": "stdout"
        }
      ]
    },
    {
      "cell_type": "code",
      "metadata": {
        "id": "4lOGzzEw1kbS"
      },
      "source": [
        "# преобразовываем входные данные\n",
        "x_train = x_train.astype('float32') # меняем тип на  float\n",
        "x_train = x_train / 255 # делим на 255, чтобы диапазон был от 0 до 1\n",
        "x_test = x_test.astype('float32') \n",
        "x_test = x_test / 255 "
      ],
      "execution_count": null,
      "outputs": []
    },
    {
      "cell_type": "code",
      "metadata": {
        "id": "_JTQFQnl4Wh4",
        "outputId": "9e4694d9-9dd6-4644-a2b1-fd13e9965a6f",
        "colab": {
          "base_uri": "https://localhost:8080/",
          "height": 34
        }
      },
      "source": [
        "# перечень самих чмсел\n",
        "y_train_org"
      ],
      "execution_count": null,
      "outputs": [
        {
          "output_type": "execute_result",
          "data": {
            "text/plain": [
              "array([5, 0, 4, ..., 5, 6, 8], dtype=uint8)"
            ]
          },
          "metadata": {
            "tags": []
          },
          "execution_count": 19
        }
      ]
    },
    {
      "cell_type": "code",
      "metadata": {
        "id": "7sxrn9nz4Wwe",
        "outputId": "2b5fc9a5-712d-4a3a-c2aa-dee1fca84110",
        "colab": {
          "base_uri": "https://localhost:8080/",
          "height": 85
        }
      },
      "source": [
        "# добавляем число в одну из \"50\" категорий\n",
        "utils.to_categorical(y_train_org[24], 50)"
      ],
      "execution_count": null,
      "outputs": [
        {
          "output_type": "execute_result",
          "data": {
            "text/plain": [
              "array([0., 1., 0., 0., 0., 0., 0., 0., 0., 0., 0., 0., 0., 0., 0., 0., 0.,\n",
              "       0., 0., 0., 0., 0., 0., 0., 0., 0., 0., 0., 0., 0., 0., 0., 0., 0.,\n",
              "       0., 0., 0., 0., 0., 0., 0., 0., 0., 0., 0., 0., 0., 0., 0., 0.],\n",
              "      dtype=float32)"
            ]
          },
          "metadata": {
            "tags": []
          },
          "execution_count": 20
        }
      ]
    },
    {
      "cell_type": "code",
      "metadata": {
        "id": "wUcIoUC44W_Y"
      },
      "source": [
        "# Преобразуем ответы в формат one_hot_encoding\n",
        "y_train = utils.to_categorical(y_train_org, 10)\n",
        "y_test = utils.to_categorical(y_test_org, 10)"
      ],
      "execution_count": null,
      "outputs": []
    },
    {
      "cell_type": "code",
      "metadata": {
        "id": "HelVeqJM4XQ4",
        "outputId": "16437890-a366-45f7-b14d-8d13086455c8",
        "colab": {
          "base_uri": "https://localhost:8080/",
          "height": 51
        }
      },
      "source": [
        "#Выводим размер y_train\n",
        "#60 тысяч примеров, каждый размера 10 (так как 10 классов)\n",
        "print(y_train.shape)\n",
        "print(y_train[24])"
      ],
      "execution_count": null,
      "outputs": [
        {
          "output_type": "stream",
          "text": [
            "(60000, 10)\n",
            "[0. 1. 0. 0. 0. 0. 0. 0. 0. 0.]\n"
          ],
          "name": "stdout"
        }
      ]
    },
    {
      "cell_type": "code",
      "metadata": {
        "id": "qdVe9LGZDHo3",
        "outputId": "25c91387-3450-42e5-ae9d-00ec8acfa359",
        "colab": {
          "base_uri": "https://localhost:8080/",
          "height": 85
        }
      },
      "source": [
        "print(y_train_org.shape)\n",
        "print(y_train_org[36], '\\n')\n",
        "print(y_train_org, '-', len(y_train_org))"
      ],
      "execution_count": null,
      "outputs": [
        {
          "output_type": "stream",
          "text": [
            "(60000,)\n",
            "6 \n",
            "\n",
            "[5 0 4 ... 5 6 8] - 60000\n"
          ],
          "name": "stdout"
        }
      ]
    },
    {
      "cell_type": "markdown",
      "metadata": {
        "id": "KCX-BzqdD5Xl"
      },
      "source": [
        "## Create NS"
      ]
    },
    {
      "cell_type": "code",
      "metadata": {
        "id": "UIqmJcF8DH7Y"
      },
      "source": [
        "model = Sequential() # сеть прямого распространения\n",
        "model.add(Dense(600, input_dim=784, activation=\"relu\")) # полносвязный слой на 600 нейронов с relu-активацией\n",
        "model.add(Dense(400, activation=\"relu\")) # слой на 400 нейронов с relu-активацией\n",
        "model.add(Dense(10, activation=\"softmax\")) # слой на 10 нейронов с softmax-активацией\n",
        "\n",
        "model2 = Sequential() \n",
        "model2.add(Dense(400, input_dim=784, activation=\"relu\")) \n",
        "model2.add(Dense(400, activation=\"tanh\"))\n",
        "model2.add(Dense(10, activation=\"softmax\"))\n",
        "\n",
        "model3 = Sequential() \n",
        "model3.add(Dense(400, input_dim=784, activation=\"relu\")) \n",
        "model3.add(Dense(400, activation=\"sigmoid\"))\n",
        "model3.add(Dense(10, activation=\"softmax\"))"
      ],
      "execution_count": null,
      "outputs": []
    },
    {
      "cell_type": "code",
      "metadata": {
        "id": "qvB4FH5VDIMb",
        "outputId": "cffd01ef-7408-4aa9-c6a9-2d3866754252",
        "colab": {
          "base_uri": "https://localhost:8080/",
          "height": 748
        }
      },
      "source": [
        "model.compile(loss=\"categorical_crossentropy\", optimizer=\"adam\", metrics=[\"accuracy\"]) # Компилируем модель\n",
        "model2.compile(loss=\"categorical_crossentropy\", optimizer=\"adamax\", metrics=[\"accuracy\"])\n",
        "model3.compile(loss=\"categorical_crossentropy\", optimizer=\"adadelta\", metrics=[\"accuracy\"])\n",
        "print(model.summary(), model2.summary(), model3.summary()) #Вывод структуры модели"
      ],
      "execution_count": null,
      "outputs": [
        {
          "output_type": "stream",
          "text": [
            "Model: \"sequential_2\"\n",
            "_________________________________________________________________\n",
            "Layer (type)                 Output Shape              Param #   \n",
            "=================================================================\n",
            "dense_4 (Dense)              (None, 600)               471000    \n",
            "_________________________________________________________________\n",
            "dense_5 (Dense)              (None, 400)               240400    \n",
            "_________________________________________________________________\n",
            "dense_6 (Dense)              (None, 10)                4010      \n",
            "=================================================================\n",
            "Total params: 715,410\n",
            "Trainable params: 715,410\n",
            "Non-trainable params: 0\n",
            "_________________________________________________________________\n",
            "Model: \"sequential_3\"\n",
            "_________________________________________________________________\n",
            "Layer (type)                 Output Shape              Param #   \n",
            "=================================================================\n",
            "dense_7 (Dense)              (None, 400)               314000    \n",
            "_________________________________________________________________\n",
            "dense_8 (Dense)              (None, 400)               160400    \n",
            "_________________________________________________________________\n",
            "dense_9 (Dense)              (None, 10)                4010      \n",
            "=================================================================\n",
            "Total params: 478,410\n",
            "Trainable params: 478,410\n",
            "Non-trainable params: 0\n",
            "_________________________________________________________________\n",
            "Model: \"sequential_4\"\n",
            "_________________________________________________________________\n",
            "Layer (type)                 Output Shape              Param #   \n",
            "=================================================================\n",
            "dense_10 (Dense)             (None, 400)               314000    \n",
            "_________________________________________________________________\n",
            "dense_11 (Dense)             (None, 400)               160400    \n",
            "_________________________________________________________________\n",
            "dense_12 (Dense)             (None, 10)                4010      \n",
            "=================================================================\n",
            "Total params: 478,410\n",
            "Trainable params: 478,410\n",
            "Non-trainable params: 0\n",
            "_________________________________________________________________\n",
            "None None None\n"
          ],
          "name": "stdout"
        }
      ]
    },
    {
      "cell_type": "markdown",
      "metadata": {
        "id": "5AJZ1XcoEWLG"
      },
      "source": [
        "## Learn NS"
      ]
    },
    {
      "cell_type": "code",
      "metadata": {
        "id": "UUMuNqAdEZLA",
        "outputId": "027756b3-77d5-4715-97aa-b4cf0dfc6f72",
        "colab": {
          "base_uri": "https://localhost:8080/"
        }
      },
      "source": [
        "#batch_size - размер батча, количество примеров, которое обрабатывает нейронка перед одним изменением весов\n",
        "#verbose - 0 - не визуализировать ход обучения, 1 - визуализировать\n",
        "val_split = [1/6, 5/6, 555/600]\n",
        "a,b,c, w = [0,0,0], [0,0,0], [0,0,0], 0\n",
        "for i in val_split: # validation_split=...\n",
        "  print ('******************************** Step '+ str(w+1) + ' ********************************')\n",
        "  a[w] = model.fit(x_train, y_train, batch_size=128, epochs=15, verbose=1, validation_split = i)\n",
        "  b[w] = model2.fit(x_train, y_train, batch_size=128, epochs=15, verbose=1, validation_split = i)\n",
        "  c[w] = model3.fit(x_train, y_train, batch_size=128, epochs=15, verbose=1, validation_split = i)\n",
        "  w += 1"
      ],
      "execution_count": null,
      "outputs": [
        {
          "output_type": "stream",
          "text": [
            "******************************** Step 1 ********************************\n",
            "Epoch 1/15\n",
            "391/391 [==============================] - 6s 16ms/step - loss: 0.2372 - accuracy: 0.9293 - val_loss: 0.1020 - val_accuracy: 0.9699\n",
            "Epoch 2/15\n",
            "391/391 [==============================] - 6s 15ms/step - loss: 0.0848 - accuracy: 0.9740 - val_loss: 0.0878 - val_accuracy: 0.9736\n",
            "Epoch 3/15\n",
            "391/391 [==============================] - 6s 15ms/step - loss: 0.0540 - accuracy: 0.9832 - val_loss: 0.0802 - val_accuracy: 0.9754\n",
            "Epoch 4/15\n",
            "391/391 [==============================] - 6s 15ms/step - loss: 0.0378 - accuracy: 0.9877 - val_loss: 0.1052 - val_accuracy: 0.9697\n",
            "Epoch 5/15\n",
            "391/391 [==============================] - 6s 15ms/step - loss: 0.0264 - accuracy: 0.9911 - val_loss: 0.0774 - val_accuracy: 0.9789\n",
            "Epoch 6/15\n",
            "391/391 [==============================] - 6s 15ms/step - loss: 0.0209 - accuracy: 0.9929 - val_loss: 0.0787 - val_accuracy: 0.9797\n",
            "Epoch 7/15\n",
            "391/391 [==============================] - 6s 15ms/step - loss: 0.0171 - accuracy: 0.9939 - val_loss: 0.0849 - val_accuracy: 0.9805\n",
            "Epoch 8/15\n",
            "391/391 [==============================] - 6s 15ms/step - loss: 0.0184 - accuracy: 0.9940 - val_loss: 0.0822 - val_accuracy: 0.9793\n",
            "Epoch 9/15\n",
            "391/391 [==============================] - 6s 15ms/step - loss: 0.0134 - accuracy: 0.9953 - val_loss: 0.0974 - val_accuracy: 0.9779\n",
            "Epoch 10/15\n",
            "391/391 [==============================] - 6s 15ms/step - loss: 0.0151 - accuracy: 0.9951 - val_loss: 0.0991 - val_accuracy: 0.9774\n",
            "Epoch 11/15\n",
            "391/391 [==============================] - 6s 15ms/step - loss: 0.0109 - accuracy: 0.9964 - val_loss: 0.1074 - val_accuracy: 0.9777\n",
            "Epoch 12/15\n",
            "391/391 [==============================] - 6s 15ms/step - loss: 0.0110 - accuracy: 0.9963 - val_loss: 0.1108 - val_accuracy: 0.9780\n",
            "Epoch 13/15\n",
            "391/391 [==============================] - 6s 15ms/step - loss: 0.0125 - accuracy: 0.9958 - val_loss: 0.0994 - val_accuracy: 0.9785\n",
            "Epoch 14/15\n",
            "391/391 [==============================] - 6s 15ms/step - loss: 0.0088 - accuracy: 0.9971 - val_loss: 0.1139 - val_accuracy: 0.9774\n",
            "Epoch 15/15\n",
            "391/391 [==============================] - 6s 15ms/step - loss: 0.0098 - accuracy: 0.9974 - val_loss: 0.1089 - val_accuracy: 0.9794\n",
            "Epoch 1/15\n",
            "391/391 [==============================] - 5s 12ms/step - loss: 0.3114 - accuracy: 0.9092 - val_loss: 0.1670 - val_accuracy: 0.9529\n",
            "Epoch 2/15\n",
            "391/391 [==============================] - 4s 11ms/step - loss: 0.1411 - accuracy: 0.9583 - val_loss: 0.1166 - val_accuracy: 0.9667\n",
            "Epoch 3/15\n",
            "391/391 [==============================] - 4s 11ms/step - loss: 0.0961 - accuracy: 0.9719 - val_loss: 0.0964 - val_accuracy: 0.9705\n",
            "Epoch 4/15\n",
            "391/391 [==============================] - 4s 11ms/step - loss: 0.0703 - accuracy: 0.9792 - val_loss: 0.0905 - val_accuracy: 0.9708\n",
            "Epoch 5/15\n",
            "391/391 [==============================] - 4s 11ms/step - loss: 0.0528 - accuracy: 0.9847 - val_loss: 0.0853 - val_accuracy: 0.9740\n",
            "Epoch 6/15\n",
            "391/391 [==============================] - 4s 11ms/step - loss: 0.0405 - accuracy: 0.9884 - val_loss: 0.0806 - val_accuracy: 0.9760\n",
            "Epoch 7/15\n",
            "391/391 [==============================] - 5s 12ms/step - loss: 0.0311 - accuracy: 0.9916 - val_loss: 0.0805 - val_accuracy: 0.9764\n",
            "Epoch 8/15\n",
            "391/391 [==============================] - 5s 12ms/step - loss: 0.0237 - accuracy: 0.9942 - val_loss: 0.0765 - val_accuracy: 0.9781\n",
            "Epoch 9/15\n",
            "391/391 [==============================] - 4s 11ms/step - loss: 0.0177 - accuracy: 0.9961 - val_loss: 0.0837 - val_accuracy: 0.9766\n",
            "Epoch 10/15\n",
            "391/391 [==============================] - 4s 11ms/step - loss: 0.0134 - accuracy: 0.9973 - val_loss: 0.0781 - val_accuracy: 0.9784\n",
            "Epoch 11/15\n",
            "391/391 [==============================] - 4s 11ms/step - loss: 0.0101 - accuracy: 0.9982 - val_loss: 0.0765 - val_accuracy: 0.9793\n",
            "Epoch 12/15\n",
            "391/391 [==============================] - 4s 11ms/step - loss: 0.0073 - accuracy: 0.9988 - val_loss: 0.0801 - val_accuracy: 0.9789\n",
            "Epoch 13/15\n",
            "391/391 [==============================] - 4s 11ms/step - loss: 0.0054 - accuracy: 0.9992 - val_loss: 0.0824 - val_accuracy: 0.9793\n",
            "Epoch 14/15\n",
            "391/391 [==============================] - 4s 11ms/step - loss: 0.0039 - accuracy: 0.9997 - val_loss: 0.0831 - val_accuracy: 0.9793\n",
            "Epoch 15/15\n",
            "391/391 [==============================] - 4s 11ms/step - loss: 0.0032 - accuracy: 0.9996 - val_loss: 0.0889 - val_accuracy: 0.9791\n",
            "Epoch 1/15\n",
            "391/391 [==============================] - 5s 12ms/step - loss: 2.3966 - accuracy: 0.1578 - val_loss: 2.3576 - val_accuracy: 0.1883\n",
            "Epoch 2/15\n",
            "391/391 [==============================] - 4s 11ms/step - loss: 2.3227 - accuracy: 0.2107 - val_loss: 2.2892 - val_accuracy: 0.2423\n",
            "Epoch 3/15\n",
            "391/391 [==============================] - 4s 11ms/step - loss: 2.2613 - accuracy: 0.2650 - val_loss: 2.2330 - val_accuracy: 0.2981\n",
            "Epoch 4/15\n",
            "391/391 [==============================] - 4s 11ms/step - loss: 2.2110 - accuracy: 0.3288 - val_loss: 2.1865 - val_accuracy: 0.3805\n",
            "Epoch 5/15\n",
            "391/391 [==============================] - 4s 11ms/step - loss: 2.1686 - accuracy: 0.4192 - val_loss: 2.1462 - val_accuracy: 0.4773\n",
            "Epoch 6/15\n",
            "391/391 [==============================] - 4s 11ms/step - loss: 2.1311 - accuracy: 0.5051 - val_loss: 2.1095 - val_accuracy: 0.5573\n",
            "Epoch 7/15\n",
            "391/391 [==============================] - 5s 12ms/step - loss: 2.0962 - accuracy: 0.5603 - val_loss: 2.0747 - val_accuracy: 0.6042\n",
            "Epoch 8/15\n",
            "391/391 [==============================] - 4s 11ms/step - loss: 2.0626 - accuracy: 0.5954 - val_loss: 2.0405 - val_accuracy: 0.6320\n",
            "Epoch 9/15\n",
            "391/391 [==============================] - 4s 11ms/step - loss: 2.0291 - accuracy: 0.6164 - val_loss: 2.0062 - val_accuracy: 0.6469\n",
            "Epoch 10/15\n",
            "391/391 [==============================] - 4s 11ms/step - loss: 1.9954 - accuracy: 0.6312 - val_loss: 1.9717 - val_accuracy: 0.6623\n",
            "Epoch 11/15\n",
            "391/391 [==============================] - 4s 11ms/step - loss: 1.9614 - accuracy: 0.6445 - val_loss: 1.9366 - val_accuracy: 0.6731\n",
            "Epoch 12/15\n",
            "391/391 [==============================] - 4s 11ms/step - loss: 1.9269 - accuracy: 0.6566 - val_loss: 1.9010 - val_accuracy: 0.6850\n",
            "Epoch 13/15\n",
            "391/391 [==============================] - 4s 11ms/step - loss: 1.8919 - accuracy: 0.6667 - val_loss: 1.8650 - val_accuracy: 0.6955\n",
            "Epoch 14/15\n",
            "391/391 [==============================] - 4s 11ms/step - loss: 1.8564 - accuracy: 0.6762 - val_loss: 1.8285 - val_accuracy: 0.7051\n",
            "Epoch 15/15\n",
            "391/391 [==============================] - 5s 12ms/step - loss: 1.8207 - accuracy: 0.6854 - val_loss: 1.7919 - val_accuracy: 0.7133\n",
            "******************************** Step 2 ********************************\n",
            "Epoch 1/15\n",
            "79/79 [==============================] - 3s 40ms/step - loss: 0.0079 - accuracy: 0.9969 - val_loss: 0.0251 - val_accuracy: 0.9941\n",
            "Epoch 2/15\n",
            "79/79 [==============================] - 3s 41ms/step - loss: 0.0018 - accuracy: 0.9994 - val_loss: 0.0230 - val_accuracy: 0.9952\n",
            "Epoch 3/15\n",
            "79/79 [==============================] - 3s 40ms/step - loss: 3.2154e-04 - accuracy: 1.0000 - val_loss: 0.0217 - val_accuracy: 0.9953\n",
            "Epoch 4/15\n",
            "79/79 [==============================] - 3s 42ms/step - loss: 9.1993e-05 - accuracy: 1.0000 - val_loss: 0.0207 - val_accuracy: 0.9957\n",
            "Epoch 5/15\n",
            "79/79 [==============================] - 3s 41ms/step - loss: 6.7097e-05 - accuracy: 1.0000 - val_loss: 0.0207 - val_accuracy: 0.9956\n",
            "Epoch 6/15\n",
            "79/79 [==============================] - 3s 41ms/step - loss: 5.7833e-05 - accuracy: 1.0000 - val_loss: 0.0207 - val_accuracy: 0.9957\n",
            "Epoch 7/15\n",
            "79/79 [==============================] - 3s 39ms/step - loss: 5.1215e-05 - accuracy: 1.0000 - val_loss: 0.0207 - val_accuracy: 0.9958\n",
            "Epoch 8/15\n",
            "79/79 [==============================] - 3s 39ms/step - loss: 4.5885e-05 - accuracy: 1.0000 - val_loss: 0.0207 - val_accuracy: 0.9958\n",
            "Epoch 9/15\n",
            "79/79 [==============================] - 3s 39ms/step - loss: 4.1825e-05 - accuracy: 1.0000 - val_loss: 0.0207 - val_accuracy: 0.9959\n",
            "Epoch 10/15\n",
            "79/79 [==============================] - 3s 39ms/step - loss: 3.8171e-05 - accuracy: 1.0000 - val_loss: 0.0208 - val_accuracy: 0.9959\n",
            "Epoch 11/15\n",
            "79/79 [==============================] - 3s 39ms/step - loss: 3.5106e-05 - accuracy: 1.0000 - val_loss: 0.0208 - val_accuracy: 0.9959\n",
            "Epoch 12/15\n",
            "79/79 [==============================] - 3s 39ms/step - loss: 3.2504e-05 - accuracy: 1.0000 - val_loss: 0.0208 - val_accuracy: 0.9959\n",
            "Epoch 13/15\n",
            "79/79 [==============================] - 3s 39ms/step - loss: 3.0166e-05 - accuracy: 1.0000 - val_loss: 0.0208 - val_accuracy: 0.9959\n",
            "Epoch 14/15\n",
            "79/79 [==============================] - 3s 39ms/step - loss: 2.8094e-05 - accuracy: 1.0000 - val_loss: 0.0209 - val_accuracy: 0.9959\n",
            "Epoch 15/15\n",
            "79/79 [==============================] - 3s 38ms/step - loss: 2.6302e-05 - accuracy: 1.0000 - val_loss: 0.0209 - val_accuracy: 0.9959\n",
            "Epoch 1/15\n",
            "79/79 [==============================] - 2s 29ms/step - loss: 0.0023 - accuracy: 0.9999 - val_loss: 0.0200 - val_accuracy: 0.9956\n",
            "Epoch 2/15\n",
            "79/79 [==============================] - 2s 29ms/step - loss: 0.0012 - accuracy: 1.0000 - val_loss: 0.0183 - val_accuracy: 0.9960\n",
            "Epoch 3/15\n",
            "79/79 [==============================] - 2s 29ms/step - loss: 8.7881e-04 - accuracy: 1.0000 - val_loss: 0.0184 - val_accuracy: 0.9960\n",
            "Epoch 4/15\n",
            "79/79 [==============================] - 2s 28ms/step - loss: 7.3983e-04 - accuracy: 1.0000 - val_loss: 0.0183 - val_accuracy: 0.9960\n",
            "Epoch 5/15\n",
            "79/79 [==============================] - 2s 30ms/step - loss: 6.5085e-04 - accuracy: 1.0000 - val_loss: 0.0183 - val_accuracy: 0.9960\n",
            "Epoch 6/15\n",
            "79/79 [==============================] - 2s 30ms/step - loss: 5.6517e-04 - accuracy: 1.0000 - val_loss: 0.0186 - val_accuracy: 0.9960\n",
            "Epoch 7/15\n",
            "79/79 [==============================] - 2s 31ms/step - loss: 5.0958e-04 - accuracy: 1.0000 - val_loss: 0.0186 - val_accuracy: 0.9960\n",
            "Epoch 8/15\n",
            "79/79 [==============================] - 2s 31ms/step - loss: 4.7783e-04 - accuracy: 1.0000 - val_loss: 0.0185 - val_accuracy: 0.9960\n",
            "Epoch 9/15\n",
            "79/79 [==============================] - 2s 30ms/step - loss: 4.1724e-04 - accuracy: 1.0000 - val_loss: 0.0188 - val_accuracy: 0.9959\n",
            "Epoch 10/15\n",
            "79/79 [==============================] - 2s 31ms/step - loss: 3.8253e-04 - accuracy: 1.0000 - val_loss: 0.0189 - val_accuracy: 0.9959\n",
            "Epoch 11/15\n",
            "79/79 [==============================] - 2s 30ms/step - loss: 3.4688e-04 - accuracy: 1.0000 - val_loss: 0.0189 - val_accuracy: 0.9959\n",
            "Epoch 12/15\n",
            "79/79 [==============================] - 2s 31ms/step - loss: 3.1890e-04 - accuracy: 1.0000 - val_loss: 0.0191 - val_accuracy: 0.9958\n",
            "Epoch 13/15\n",
            "79/79 [==============================] - 2s 30ms/step - loss: 2.9058e-04 - accuracy: 1.0000 - val_loss: 0.0192 - val_accuracy: 0.9959\n",
            "Epoch 14/15\n",
            "79/79 [==============================] - 2s 30ms/step - loss: 2.6867e-04 - accuracy: 1.0000 - val_loss: 0.0195 - val_accuracy: 0.9958\n",
            "Epoch 15/15\n",
            "79/79 [==============================] - 2s 30ms/step - loss: 2.4694e-04 - accuracy: 1.0000 - val_loss: 0.0196 - val_accuracy: 0.9956\n",
            "Epoch 1/15\n",
            "79/79 [==============================] - 2s 31ms/step - loss: 1.7895 - accuracy: 0.7021 - val_loss: 1.7950 - val_accuracy: 0.6919\n",
            "Epoch 2/15\n",
            "79/79 [==============================] - 2s 29ms/step - loss: 1.7820 - accuracy: 0.7020 - val_loss: 1.7877 - val_accuracy: 0.6926\n",
            "Epoch 3/15\n",
            "79/79 [==============================] - 2s 30ms/step - loss: 1.7745 - accuracy: 0.7018 - val_loss: 1.7804 - val_accuracy: 0.6925\n",
            "Epoch 4/15\n",
            "79/79 [==============================] - 2s 30ms/step - loss: 1.7670 - accuracy: 0.7018 - val_loss: 1.7732 - val_accuracy: 0.6936\n",
            "Epoch 5/15\n",
            "79/79 [==============================] - 2s 30ms/step - loss: 1.7596 - accuracy: 0.7040 - val_loss: 1.7660 - val_accuracy: 0.6946\n",
            "Epoch 6/15\n",
            "79/79 [==============================] - 2s 31ms/step - loss: 1.7522 - accuracy: 0.7048 - val_loss: 1.7587 - val_accuracy: 0.6952\n",
            "Epoch 7/15\n",
            "79/79 [==============================] - 2s 31ms/step - loss: 1.7448 - accuracy: 0.7049 - val_loss: 1.7516 - val_accuracy: 0.6961\n",
            "Epoch 8/15\n",
            "79/79 [==============================] - 2s 31ms/step - loss: 1.7374 - accuracy: 0.7058 - val_loss: 1.7443 - val_accuracy: 0.6973\n",
            "Epoch 9/15\n",
            "79/79 [==============================] - 2s 31ms/step - loss: 1.7300 - accuracy: 0.7079 - val_loss: 1.7371 - val_accuracy: 0.6979\n",
            "Epoch 10/15\n",
            "79/79 [==============================] - 2s 30ms/step - loss: 1.7227 - accuracy: 0.7088 - val_loss: 1.7300 - val_accuracy: 0.6992\n",
            "Epoch 11/15\n",
            "79/79 [==============================] - 2s 30ms/step - loss: 1.7153 - accuracy: 0.7103 - val_loss: 1.7228 - val_accuracy: 0.6997\n",
            "Epoch 12/15\n",
            "79/79 [==============================] - 2s 30ms/step - loss: 1.7080 - accuracy: 0.7106 - val_loss: 1.7156 - val_accuracy: 0.7010\n",
            "Epoch 13/15\n",
            "79/79 [==============================] - 2s 30ms/step - loss: 1.7007 - accuracy: 0.7122 - val_loss: 1.7085 - val_accuracy: 0.7018\n",
            "Epoch 14/15\n",
            "79/79 [==============================] - 2s 30ms/step - loss: 1.6933 - accuracy: 0.7134 - val_loss: 1.7013 - val_accuracy: 0.7023\n",
            "Epoch 15/15\n",
            "79/79 [==============================] - 2s 31ms/step - loss: 1.6860 - accuracy: 0.7140 - val_loss: 1.6942 - val_accuracy: 0.7032\n",
            "******************************** Step 3 ********************************\n",
            "Epoch 1/15\n",
            "36/36 [==============================] - 3s 75ms/step - loss: 2.3518e-05 - accuracy: 1.0000 - val_loss: 0.0188 - val_accuracy: 0.9963\n",
            "Epoch 2/15\n",
            "36/36 [==============================] - 3s 74ms/step - loss: 2.2217e-05 - accuracy: 1.0000 - val_loss: 0.0188 - val_accuracy: 0.9963\n",
            "Epoch 3/15\n",
            "36/36 [==============================] - 3s 73ms/step - loss: 2.1124e-05 - accuracy: 1.0000 - val_loss: 0.0188 - val_accuracy: 0.9963\n",
            "Epoch 4/15\n",
            "36/36 [==============================] - 3s 73ms/step - loss: 2.0107e-05 - accuracy: 1.0000 - val_loss: 0.0188 - val_accuracy: 0.9964\n",
            "Epoch 5/15\n",
            "36/36 [==============================] - 3s 74ms/step - loss: 1.9164e-05 - accuracy: 1.0000 - val_loss: 0.0188 - val_accuracy: 0.9964\n",
            "Epoch 6/15\n",
            "36/36 [==============================] - 3s 73ms/step - loss: 1.8362e-05 - accuracy: 1.0000 - val_loss: 0.0188 - val_accuracy: 0.9964\n",
            "Epoch 7/15\n",
            "36/36 [==============================] - 3s 71ms/step - loss: 1.7648e-05 - accuracy: 1.0000 - val_loss: 0.0188 - val_accuracy: 0.9964\n",
            "Epoch 8/15\n",
            "36/36 [==============================] - 3s 73ms/step - loss: 1.6932e-05 - accuracy: 1.0000 - val_loss: 0.0188 - val_accuracy: 0.9964\n",
            "Epoch 9/15\n",
            "36/36 [==============================] - 3s 73ms/step - loss: 1.6286e-05 - accuracy: 1.0000 - val_loss: 0.0188 - val_accuracy: 0.9964\n",
            "Epoch 10/15\n",
            "36/36 [==============================] - 3s 73ms/step - loss: 1.5709e-05 - accuracy: 1.0000 - val_loss: 0.0189 - val_accuracy: 0.9964\n",
            "Epoch 11/15\n",
            "36/36 [==============================] - 3s 73ms/step - loss: 1.5118e-05 - accuracy: 1.0000 - val_loss: 0.0189 - val_accuracy: 0.9964\n",
            "Epoch 12/15\n",
            "36/36 [==============================] - 3s 75ms/step - loss: 1.4585e-05 - accuracy: 1.0000 - val_loss: 0.0189 - val_accuracy: 0.9964\n",
            "Epoch 13/15\n",
            "36/36 [==============================] - 3s 73ms/step - loss: 1.4121e-05 - accuracy: 1.0000 - val_loss: 0.0189 - val_accuracy: 0.9964\n",
            "Epoch 14/15\n",
            "36/36 [==============================] - 3s 73ms/step - loss: 1.3626e-05 - accuracy: 1.0000 - val_loss: 0.0189 - val_accuracy: 0.9964\n",
            "Epoch 15/15\n",
            "36/36 [==============================] - 3s 74ms/step - loss: 1.3204e-05 - accuracy: 1.0000 - val_loss: 0.0189 - val_accuracy: 0.9964\n",
            "Epoch 1/15\n",
            "36/36 [==============================] - 2s 57ms/step - loss: 2.1452e-04 - accuracy: 1.0000 - val_loss: 0.0177 - val_accuracy: 0.9962\n",
            "Epoch 2/15\n",
            "36/36 [==============================] - 2s 56ms/step - loss: 1.9244e-04 - accuracy: 1.0000 - val_loss: 0.0178 - val_accuracy: 0.9962\n",
            "Epoch 3/15\n",
            "36/36 [==============================] - 2s 56ms/step - loss: 1.7725e-04 - accuracy: 1.0000 - val_loss: 0.0179 - val_accuracy: 0.9962\n",
            "Epoch 4/15\n",
            "36/36 [==============================] - 2s 56ms/step - loss: 1.5910e-04 - accuracy: 1.0000 - val_loss: 0.0181 - val_accuracy: 0.9962\n",
            "Epoch 5/15\n",
            "36/36 [==============================] - 2s 55ms/step - loss: 1.4649e-04 - accuracy: 1.0000 - val_loss: 0.0182 - val_accuracy: 0.9961\n",
            "Epoch 6/15\n",
            "36/36 [==============================] - 2s 55ms/step - loss: 1.3727e-04 - accuracy: 1.0000 - val_loss: 0.0183 - val_accuracy: 0.9961\n",
            "Epoch 7/15\n",
            "36/36 [==============================] - 2s 54ms/step - loss: 1.2844e-04 - accuracy: 1.0000 - val_loss: 0.0184 - val_accuracy: 0.9961\n",
            "Epoch 8/15\n",
            "36/36 [==============================] - 2s 55ms/step - loss: 1.2167e-04 - accuracy: 1.0000 - val_loss: 0.0184 - val_accuracy: 0.9961\n",
            "Epoch 9/15\n",
            "36/36 [==============================] - 2s 55ms/step - loss: 1.1331e-04 - accuracy: 1.0000 - val_loss: 0.0186 - val_accuracy: 0.9961\n",
            "Epoch 10/15\n",
            "36/36 [==============================] - 2s 54ms/step - loss: 1.0712e-04 - accuracy: 1.0000 - val_loss: 0.0187 - val_accuracy: 0.9961\n",
            "Epoch 11/15\n",
            "36/36 [==============================] - 2s 55ms/step - loss: 1.0175e-04 - accuracy: 1.0000 - val_loss: 0.0188 - val_accuracy: 0.9961\n",
            "Epoch 12/15\n",
            "36/36 [==============================] - 2s 55ms/step - loss: 9.6579e-05 - accuracy: 1.0000 - val_loss: 0.0188 - val_accuracy: 0.9961\n",
            "Epoch 13/15\n",
            "36/36 [==============================] - 2s 55ms/step - loss: 9.1833e-05 - accuracy: 1.0000 - val_loss: 0.0189 - val_accuracy: 0.9961\n",
            "Epoch 14/15\n",
            "36/36 [==============================] - 2s 57ms/step - loss: 8.7835e-05 - accuracy: 1.0000 - val_loss: 0.0190 - val_accuracy: 0.9961\n",
            "Epoch 15/15\n",
            "36/36 [==============================] - 2s 56ms/step - loss: 8.3690e-05 - accuracy: 1.0000 - val_loss: 0.0191 - val_accuracy: 0.9960\n",
            "Epoch 1/15\n",
            "36/36 [==============================] - 2s 57ms/step - loss: 1.6813 - accuracy: 0.7133 - val_loss: 1.6897 - val_accuracy: 0.7049\n",
            "Epoch 2/15\n",
            "36/36 [==============================] - 2s 55ms/step - loss: 1.6779 - accuracy: 0.7139 - val_loss: 1.6865 - val_accuracy: 0.7052\n",
            "Epoch 3/15\n",
            "36/36 [==============================] - 2s 56ms/step - loss: 1.6745 - accuracy: 0.7142 - val_loss: 1.6833 - val_accuracy: 0.7060\n",
            "Epoch 4/15\n",
            "36/36 [==============================] - 2s 56ms/step - loss: 1.6712 - accuracy: 0.7153 - val_loss: 1.6801 - val_accuracy: 0.7065\n",
            "Epoch 5/15\n",
            "36/36 [==============================] - 2s 55ms/step - loss: 1.6678 - accuracy: 0.7150 - val_loss: 1.6769 - val_accuracy: 0.7069\n",
            "Epoch 6/15\n",
            "36/36 [==============================] - 2s 57ms/step - loss: 1.6645 - accuracy: 0.7155 - val_loss: 1.6737 - val_accuracy: 0.7077\n",
            "Epoch 7/15\n",
            "36/36 [==============================] - 2s 63ms/step - loss: 1.6611 - accuracy: 0.7155 - val_loss: 1.6705 - val_accuracy: 0.7080\n",
            "Epoch 8/15\n",
            "36/36 [==============================] - 2s 63ms/step - loss: 1.6578 - accuracy: 0.7166 - val_loss: 1.6672 - val_accuracy: 0.7080\n",
            "Epoch 9/15\n",
            "36/36 [==============================] - 2s 58ms/step - loss: 1.6544 - accuracy: 0.7168 - val_loss: 1.6640 - val_accuracy: 0.7087\n",
            "Epoch 10/15\n",
            "36/36 [==============================] - 2s 58ms/step - loss: 1.6511 - accuracy: 0.7175 - val_loss: 1.6608 - val_accuracy: 0.7093\n",
            "Epoch 11/15\n",
            "36/36 [==============================] - 2s 56ms/step - loss: 1.6478 - accuracy: 0.7188 - val_loss: 1.6576 - val_accuracy: 0.7096\n",
            "Epoch 12/15\n",
            "36/36 [==============================] - 2s 57ms/step - loss: 1.6444 - accuracy: 0.7190 - val_loss: 1.6544 - val_accuracy: 0.7102\n",
            "Epoch 13/15\n",
            "36/36 [==============================] - 2s 55ms/step - loss: 1.6411 - accuracy: 0.7204 - val_loss: 1.6513 - val_accuracy: 0.7107\n",
            "Epoch 14/15\n",
            "36/36 [==============================] - 2s 58ms/step - loss: 1.6378 - accuracy: 0.7210 - val_loss: 1.6481 - val_accuracy: 0.7112\n",
            "Epoch 15/15\n",
            "36/36 [==============================] - 2s 57ms/step - loss: 1.6345 - accuracy: 0.7206 - val_loss: 1.6449 - val_accuracy: 0.7116\n"
          ],
          "name": "stdout"
        }
      ]
    },
    {
      "cell_type": "code",
      "metadata": {
        "id": "N8kXU8EFEmMX"
      },
      "source": [
        ""
      ],
      "execution_count": null,
      "outputs": []
    },
    {
      "cell_type": "code",
      "metadata": {
        "id": "ClLVNeUQEPrK",
        "outputId": "d3a35f7d-395f-4ed4-8fda-4f2dc8890829",
        "colab": {
          "base_uri": "https://localhost:8080/"
        }
      },
      "source": [
        "'''n_rec = 1234\n",
        "plt.imshow(Image.fromarray(x_test_org[n_rec]).convert('RGBA')) # Нарисуем картинку из тестового набора под номером n_rec\n",
        "plt.show()'''"
      ],
      "execution_count": null,
      "outputs": [
        {
          "output_type": "execute_result",
          "data": {
            "application/vnd.google.colaboratory.intrinsic+json": {
              "type": "string"
            },
            "text/plain": [
              "\"n_rec = 1234\\nplt.imshow(Image.fromarray(x_test_org[n_rec]).convert('RGBA')) # Нарисуем картинку из тестового набора под номером n_rec\\nplt.show()\""
            ]
          },
          "metadata": {
            "tags": []
          },
          "execution_count": 27
        }
      ]
    },
    {
      "cell_type": "code",
      "metadata": {
        "id": "_CJVYZZkDIZA",
        "outputId": "793008af-5118-4ad9-d628-b2c6e867935f",
        "colab": {
          "base_uri": "https://localhost:8080/"
        }
      },
      "source": [
        "'''#Выбираем нужную картинку из тестовой выборки\n",
        "x = x_test[n_rec]\n",
        "print(x.shape)'''"
      ],
      "execution_count": null,
      "outputs": [
        {
          "output_type": "execute_result",
          "data": {
            "application/vnd.google.colaboratory.intrinsic+json": {
              "type": "string"
            },
            "text/plain": [
              "'#Выбираем нужную картинку из тестовой выборки\\nx = x_test[n_rec]\\nprint(x.shape)'"
            ]
          },
          "metadata": {
            "tags": []
          },
          "execution_count": 28
        }
      ]
    },
    {
      "cell_type": "code",
      "metadata": {
        "id": "1-zK4BIXDIkX",
        "outputId": "083372c0-8f12-487a-ceab-a735ba914fd6",
        "colab": {
          "base_uri": "https://localhost:8080/"
        }
      },
      "source": [
        "'''#Добавляем одну размерность в конце, чтобы нейронка могла распознать пример - это \"+1\" будет происходить при каждом запуске блока\n",
        "#Потому что нейронка принимает именно массив примеров для распознавания\n",
        "#Мы делаем массив из одного примера\n",
        "x = np.expand_dims(x, axis=0)\n",
        "print(x.shape)'''"
      ],
      "execution_count": null,
      "outputs": [
        {
          "output_type": "execute_result",
          "data": {
            "application/vnd.google.colaboratory.intrinsic+json": {
              "type": "string"
            },
            "text/plain": [
              "'#Добавляем одну размерность в конце, чтобы нейронка могла распознать пример - это \"+1\" будет происходить при каждом запуске блока\\n#Потому что нейронка принимает именно массив примеров для распознавания\\n#Мы делаем массив из одного примера\\nx = np.expand_dims(x, axis=0)\\nprint(x.shape)'"
            ]
          },
          "metadata": {
            "tags": []
          },
          "execution_count": 29
        }
      ]
    },
    {
      "cell_type": "code",
      "metadata": {
        "id": "1Z6VD8PQDJHC"
      },
      "source": [
        ""
      ],
      "execution_count": null,
      "outputs": []
    },
    {
      "cell_type": "code",
      "metadata": {
        "id": "8uzS6l7cV1F0"
      },
      "source": [
        ""
      ],
      "execution_count": null,
      "outputs": []
    },
    {
      "cell_type": "markdown",
      "metadata": {
        "id": "z3ewQXIG6Yq6"
      },
      "source": [
        "## Table"
      ]
    },
    {
      "cell_type": "code",
      "metadata": {
        "id": "0EENJJkjDDVP"
      },
      "source": [
        "# Вместо таблицы\n",
        "'''\n",
        "Step 1 (50000)\n",
        "accuracy: 0.9831 - val_accuracy: 0.9698\n",
        "accuracy: 0.9705 - val_accuracy: 0.9627\n",
        "accuracy: 0.6855 - val_accuracy: 0.7088\n",
        "\n",
        "Step 2 (10000)\n",
        "accuracy: 1.0000 - val_accuracy: 0.9882\n",
        "accuracy: 0.9954 - val_accuracy: 0.9708\n",
        "accuracy: 0.7555 - val_accuracy: 0.7280\n",
        "\n",
        "Step 3 (500)\n",
        "accuracy: 1.0000 - val_accuracy: 0.9894\n",
        "accuracy: 0.9996 - val_accuracy: 0.9735\n",
        "accuracy: 0.7797 - val_accuracy: 0.7423\n",
        "\n",
        "Вывод:\n",
        "На всех трех сетях при обучаещей выборке 50 000 модель показала себя максимально обученной, но скорее всего переобучена\n",
        "\n",
        "На всех трех сетях при обучаещей выборке 10 000 модель показала лучше результаты, подозреваю что есть признаки переобучения\n",
        "\n",
        "На всех трех сетях при обучаещей выборке 500 модель показала максимальный результат на тестовой выборке, либо она переобучена, либо меньшая обучающая выборка действиельно помогает повысить показатели на тесте\n",
        "'''"
      ],
      "execution_count": null,
      "outputs": []
    },
    {
      "cell_type": "code",
      "metadata": {
        "id": "gGvpH3Q96dSN"
      },
      "source": [
        "# выводы по результатам проведенных тестов.\n",
        "'''\n",
        "import pandas as pd\n",
        "# import numpy as np\n",
        "\n",
        "df = pd.DataFrame({\n",
        "   'Эксперимент №': ['01', '02', '03', '04', '05', '06', '07', '08'],\n",
        "   # (!) точность брал максимальную, т.к. средняя почти одинаковая, а \"на глаз\" ставить не вижу смысла\n",
        "   'Полученная точность': ['0.9801', '0.9804', '0.9806', '0.9774', '0.9672', '0.9813', '0.9809', '0.9172'],\n",
        "   'Что сделано': ['В одном из слоёв высталено 5000 нейронов', 'В одном из слоёв высталено 500 нейронов','В одном из слоёв высталено 10 нейронов',\n",
        "                   'Заменена активация в скрытом слое','Выставлен batch 1','Выставлен batch 10',\n",
        "                   'Выставлен batch 100', 'Выставлен batch 60000'],\n",
        "   'Выводы': ['Эпохи стали значительно дольше обучаться', 'Эпохи обучаются заметно быстрее предыдущего случая, качество незначительно выросло', \n",
        "              'Качество такое же как и ранее или незначительно лучше', \n",
        "              'Качество ухудшилось, relu показал себя лучше', \n",
        "              'Дольше всех выполнялось обучение модели - пришлось уменьшить кол-во нейронов, результат ниже среднего', \n",
        "              'Обучение пошло быстрее чем в прошлом случае, наверное лучший вариант среди экспериментов', \n",
        "              'Обучение быстрее прошлого случая, результат выше среднего',\n",
        "              'Показатель точности сильно упал по сравнению с остальными']\n",
        "})\n",
        "\n",
        "df\n",
        "\n",
        "'''"
      ],
      "execution_count": null,
      "outputs": []
    },
    {
      "cell_type": "code",
      "metadata": {
        "id": "gWve1S_qnJDs"
      },
      "source": [
        "# Задача 3"
      ],
      "execution_count": null,
      "outputs": []
    },
    {
      "cell_type": "code",
      "metadata": {
        "id": "dmmLpv-HnJWk",
        "outputId": "867e98dd-2424-42d3-a597-0772a02cfa3b",
        "colab": {
          "base_uri": "https://localhost:8080/",
          "height": 34
        }
      },
      "source": [
        "def createModel():\n",
        "\n",
        "  model = Sequential()\n",
        "\n",
        "  model.add(BatchNormalization(input_shape=(60, )))\n",
        "  model.add(Dense(400, activation='relu'))\n",
        "  model.add(Dropout(0.3))\n",
        "  model.add(BatchNormalization())\n",
        "  model.add(Dense(300, activation='relu'))\n",
        "  model.add(Dropout(0.3))\n",
        "  model.add(BatchNormalization())\n",
        "  model.add(Dense(300, activation='relu'))\n",
        "  model.add(Dense(1, activation='sigmoid'))\n",
        "\n",
        "  model.compile(loss='binary_crossentropy', optimizer=Adam(lr=0.001), metrics=['accuracy'])\n",
        "\n",
        "  return model # Возвращаем сеть и обучение\n",
        "\n",
        "createModel()\n",
        "model"
      ],
      "execution_count": null,
      "outputs": [
        {
          "output_type": "execute_result",
          "data": {
            "text/plain": [
              "<tensorflow.python.keras.engine.sequential.Sequential at 0x7f246261d5c0>"
            ]
          },
          "metadata": {
            "tags": []
          },
          "execution_count": 33
        }
      ]
    },
    {
      "cell_type": "code",
      "metadata": {
        "id": "b2a4QVV-nJmW",
        "outputId": "9d9a8e31-129d-498b-f68f-723dc11a508c",
        "colab": {
          "base_uri": "https://localhost:8080/",
          "height": 1000
        }
      },
      "source": [
        "#Обучаем сеть на данных mnist\n",
        "history = model.fit(x_train, \n",
        "                    y_train, \n",
        "                    batch_size=200, \n",
        "                    epochs=40,\n",
        "                    validation_split=0.2,\n",
        "                    verbose=1)\n",
        "\n",
        "#Отображаем график точности обучения\n",
        "plt.plot(history.history['accuracy'], \n",
        "         label='Доля верных ответов на обучающем наборе')\n",
        "plt.plot(history.history['val_accuracy'], \n",
        "         label='Доля верных ответов на проверочном наборе')\n",
        "plt.xlabel('Эпоха обучения')\n",
        "plt.ylabel('Доля верных ответов')\n",
        "plt.legend()\n",
        "plt.show()"
      ],
      "execution_count": null,
      "outputs": [
        {
          "output_type": "stream",
          "text": [
            "Epoch 1/40\n",
            "240/240 [==============================] - 5s 22ms/step - loss: 0.0070 - accuracy: 0.9976 - val_loss: 0.0871 - val_accuracy: 0.9843\n",
            "Epoch 2/40\n",
            "240/240 [==============================] - 5s 22ms/step - loss: 0.0058 - accuracy: 0.9979 - val_loss: 0.0854 - val_accuracy: 0.9840\n",
            "Epoch 3/40\n",
            "240/240 [==============================] - 5s 21ms/step - loss: 0.0020 - accuracy: 0.9994 - val_loss: 0.0908 - val_accuracy: 0.9842\n",
            "Epoch 4/40\n",
            "240/240 [==============================] - 5s 22ms/step - loss: 0.0016 - accuracy: 0.9996 - val_loss: 0.1036 - val_accuracy: 0.9832\n",
            "Epoch 5/40\n",
            "240/240 [==============================] - 5s 21ms/step - loss: 0.0028 - accuracy: 0.9992 - val_loss: 0.0935 - val_accuracy: 0.9847\n",
            "Epoch 6/40\n",
            "240/240 [==============================] - 5s 22ms/step - loss: 0.0062 - accuracy: 0.9977 - val_loss: 0.0998 - val_accuracy: 0.9836\n",
            "Epoch 7/40\n",
            "240/240 [==============================] - 5s 21ms/step - loss: 0.0050 - accuracy: 0.9984 - val_loss: 0.1003 - val_accuracy: 0.9824\n",
            "Epoch 8/40\n",
            "240/240 [==============================] - 5s 22ms/step - loss: 0.0058 - accuracy: 0.9984 - val_loss: 0.0984 - val_accuracy: 0.9837\n",
            "Epoch 9/40\n",
            "240/240 [==============================] - 5s 21ms/step - loss: 0.0039 - accuracy: 0.9988 - val_loss: 0.0916 - val_accuracy: 0.9853\n",
            "Epoch 10/40\n",
            "240/240 [==============================] - 5s 23ms/step - loss: 0.0053 - accuracy: 0.9985 - val_loss: 0.0930 - val_accuracy: 0.9842\n",
            "Epoch 11/40\n",
            "240/240 [==============================] - 5s 23ms/step - loss: 3.3835e-04 - accuracy: 0.9999 - val_loss: 0.0920 - val_accuracy: 0.9846\n",
            "Epoch 12/40\n",
            "240/240 [==============================] - 5s 22ms/step - loss: 0.0021 - accuracy: 0.9994 - val_loss: 0.0917 - val_accuracy: 0.9851\n",
            "Epoch 13/40\n",
            "240/240 [==============================] - 5s 23ms/step - loss: 8.8246e-04 - accuracy: 0.9997 - val_loss: 0.1030 - val_accuracy: 0.9836\n",
            "Epoch 14/40\n",
            "240/240 [==============================] - 5s 22ms/step - loss: 0.0054 - accuracy: 0.9981 - val_loss: 0.1238 - val_accuracy: 0.9808\n",
            "Epoch 15/40\n",
            "240/240 [==============================] - 5s 21ms/step - loss: 0.0106 - accuracy: 0.9972 - val_loss: 0.1115 - val_accuracy: 0.9819\n",
            "Epoch 16/40\n",
            "240/240 [==============================] - 5s 22ms/step - loss: 0.0048 - accuracy: 0.9983 - val_loss: 0.1035 - val_accuracy: 0.9833\n",
            "Epoch 17/40\n",
            "240/240 [==============================] - 5s 21ms/step - loss: 0.0018 - accuracy: 0.9994 - val_loss: 0.1029 - val_accuracy: 0.9836\n",
            "Epoch 18/40\n",
            "240/240 [==============================] - 5s 21ms/step - loss: 0.0019 - accuracy: 0.9994 - val_loss: 0.0993 - val_accuracy: 0.9846\n",
            "Epoch 19/40\n",
            "240/240 [==============================] - 5s 21ms/step - loss: 0.0013 - accuracy: 0.9997 - val_loss: 0.1086 - val_accuracy: 0.9841\n",
            "Epoch 20/40\n",
            "240/240 [==============================] - 5s 21ms/step - loss: 0.0033 - accuracy: 0.9992 - val_loss: 0.1030 - val_accuracy: 0.9839\n",
            "Epoch 21/40\n",
            "240/240 [==============================] - 5s 21ms/step - loss: 0.0050 - accuracy: 0.9986 - val_loss: 0.1202 - val_accuracy: 0.9805\n",
            "Epoch 22/40\n",
            "240/240 [==============================] - 5s 21ms/step - loss: 0.0045 - accuracy: 0.9987 - val_loss: 0.1050 - val_accuracy: 0.9837\n",
            "Epoch 23/40\n",
            "240/240 [==============================] - 5s 21ms/step - loss: 0.0012 - accuracy: 0.9996 - val_loss: 0.1150 - val_accuracy: 0.9826\n",
            "Epoch 24/40\n",
            "240/240 [==============================] - 5s 21ms/step - loss: 2.3784e-04 - accuracy: 0.9999 - val_loss: 0.1087 - val_accuracy: 0.9836\n",
            "Epoch 25/40\n",
            "240/240 [==============================] - 5s 21ms/step - loss: 0.0032 - accuracy: 0.9990 - val_loss: 0.1135 - val_accuracy: 0.9838\n",
            "Epoch 26/40\n",
            "240/240 [==============================] - 5s 21ms/step - loss: 0.0031 - accuracy: 0.9991 - val_loss: 0.1107 - val_accuracy: 0.9845\n",
            "Epoch 27/40\n",
            "240/240 [==============================] - 5s 21ms/step - loss: 0.0047 - accuracy: 0.9986 - val_loss: 0.1367 - val_accuracy: 0.9808\n",
            "Epoch 28/40\n",
            "240/240 [==============================] - 5s 21ms/step - loss: 0.0071 - accuracy: 0.9981 - val_loss: 0.1257 - val_accuracy: 0.9828\n",
            "Epoch 29/40\n",
            "240/240 [==============================] - 5s 21ms/step - loss: 0.0053 - accuracy: 0.9984 - val_loss: 0.1212 - val_accuracy: 0.9822\n",
            "Epoch 30/40\n",
            "240/240 [==============================] - 5s 21ms/step - loss: 0.0023 - accuracy: 0.9992 - val_loss: 0.1227 - val_accuracy: 0.9833\n",
            "Epoch 31/40\n",
            "240/240 [==============================] - 5s 21ms/step - loss: 0.0012 - accuracy: 0.9996 - val_loss: 0.1187 - val_accuracy: 0.9848\n",
            "Epoch 32/40\n",
            "240/240 [==============================] - 5s 21ms/step - loss: 5.7942e-04 - accuracy: 0.9998 - val_loss: 0.1203 - val_accuracy: 0.9843\n",
            "Epoch 33/40\n",
            "240/240 [==============================] - 5s 21ms/step - loss: 0.0011 - accuracy: 0.9997 - val_loss: 0.1238 - val_accuracy: 0.9842\n",
            "Epoch 34/40\n",
            "240/240 [==============================] - 5s 21ms/step - loss: 0.0022 - accuracy: 0.9994 - val_loss: 0.1268 - val_accuracy: 0.9838\n",
            "Epoch 35/40\n",
            "240/240 [==============================] - 5s 21ms/step - loss: 0.0062 - accuracy: 0.9983 - val_loss: 0.1413 - val_accuracy: 0.9839\n",
            "Epoch 36/40\n",
            "240/240 [==============================] - 5s 21ms/step - loss: 0.0059 - accuracy: 0.9986 - val_loss: 0.1131 - val_accuracy: 0.9850\n",
            "Epoch 37/40\n",
            "240/240 [==============================] - 5s 21ms/step - loss: 0.0018 - accuracy: 0.9994 - val_loss: 0.1248 - val_accuracy: 0.9836\n",
            "Epoch 38/40\n",
            "240/240 [==============================] - 5s 21ms/step - loss: 5.7718e-04 - accuracy: 0.9998 - val_loss: 0.1098 - val_accuracy: 0.9850\n",
            "Epoch 39/40\n",
            "240/240 [==============================] - 5s 21ms/step - loss: 5.2276e-05 - accuracy: 1.0000 - val_loss: 0.1076 - val_accuracy: 0.9857\n",
            "Epoch 40/40\n",
            "240/240 [==============================] - 5s 21ms/step - loss: 1.7135e-05 - accuracy: 1.0000 - val_loss: 0.1074 - val_accuracy: 0.9858\n"
          ],
          "name": "stdout"
        },
        {
          "output_type": "display_data",
          "data": {
            "image/png": "[encoded data removed]",
            "text/plain": [
              "<Figure size 432x288 with 1 Axes>"
            ]
          },
          "metadata": {
            "tags": [],
            "needs_background": "light"
          }
        }
      ]
    },
    {
      "cell_type": "markdown",
      "metadata": {
        "id": "YwMV2vNN5pap"
      },
      "source": [
        "# PRO, вариант 1\n",
        "Повысьте точность модели по обнаружению мин до 90 % на тестовой выборке. Можно использовать различные варианты слоев Dropout и BatchNormalization. Можно менять количество примеров в обучающей и проверочной выборках, но нельзя менять количество примеров в тестовой. \n",
        "\n"
      ]
    },
    {
      "cell_type": "code",
      "metadata": {
        "id": "td0Dzznd_r2M",
        "outputId": "b352b0b7-8d6f-4c24-c781-819ded030f28",
        "colab": {
          "base_uri": "https://localhost:8080/",
          "height": 85
        }
      },
      "source": [
        "print(x_train.shape)\n",
        "print(y_train.shape)\n",
        "print(x_test.shape)\n",
        "print(y_test.shape)"
      ],
      "execution_count": null,
      "outputs": [
        {
          "output_type": "stream",
          "text": [
            "(60000, 784)\n",
            "(60000, 10)\n",
            "(10000, 784)\n",
            "(10000, 10)\n"
          ],
          "name": "stdout"
        }
      ]
    },
    {
      "cell_type": "code",
      "metadata": {
        "id": "j3LCoNsh_xiP",
        "outputId": "1f889d60-c004-4f62-cdb1-5b97531613a6",
        "colab": {
          "base_uri": "https://localhost:8080/",
          "height": 279
        }
      },
      "source": [
        "#Обучаем сеть на данных mnist\n",
        "history = model.fit(x_train, \n",
        "                    y_train, \n",
        "                    batch_size=150, \n",
        "                    epochs=40,\n",
        "                    validation_split=0.2,\n",
        "                    verbose=0)\n",
        "\n",
        "#Отображаем график точности обучения\n",
        "plt.plot(history.history['accuracy'], \n",
        "         label='Доля верных ответов на обучающем наборе')\n",
        "plt.plot(history.history['val_accuracy'], \n",
        "         label='Доля верных ответов на проверочном наборе')\n",
        "plt.xlabel('Эпоха обучения')\n",
        "plt.ylabel('Доля верных ответов')\n",
        "plt.legend()\n",
        "plt.show()"
      ],
      "execution_count": null,
      "outputs": [
        {
          "output_type": "display_data",
          "data": {
            "image/png": "[encoded data removed]",
            "text/plain": [
              "<Figure size 432x288 with 1 Axes>"
            ]
          },
          "metadata": {
            "tags": [],
            "needs_background": "light"
          }
        }
      ]
    },
    {
      "cell_type": "code",
      "metadata": {
        "id": "eQ6oA1krCs0o",
        "outputId": "47fe0110-4faf-4cd6-fe69-875fc0995869",
        "colab": {
          "base_uri": "https://localhost:8080/",
          "height": 51
        }
      },
      "source": [
        "pred_example = model.predict(x_test)\n",
        "print(np.argmax(pred_example[0])) # model.predict(x_test)[0]\n",
        "print(np.argmax(y_test[0]))"
      ],
      "execution_count": null,
      "outputs": [
        {
          "output_type": "stream",
          "text": [
            "7\n",
            "7\n"
          ],
          "name": "stdout"
        }
      ]
    },
    {
      "cell_type": "code",
      "metadata": {
        "id": "JsyWsf2gSqa-",
        "outputId": "831aac1e-daea-402f-ea97-cf34ebf1e6fd",
        "colab": {
          "base_uri": "https://localhost:8080/",
          "height": 34
        }
      },
      "source": [
        "m1, m2 = 0, 0\n",
        "for i in range(10000):\n",
        "  if np.argmax(pred_example[i]) == np.argmax(y_test[i]):\n",
        "    m1+=1 \n",
        "  else: \n",
        "    m2+=1\n",
        "\n",
        "print (m1/10000, m2/10000)"
      ],
      "execution_count": null,
      "outputs": [
        {
          "output_type": "stream",
          "text": [
            "0.9865 0.0135\n"
          ],
          "name": "stdout"
        }
      ]
    },
    {
      "cell_type": "code",
      "metadata": {
        "id": "HBL_hB15UOaX",
        "outputId": "2aca820c-660e-4cdb-8995-88562c7c8ad6",
        "colab": {
          "base_uri": "https://localhost:8080/",
          "height": 54
        }
      },
      "source": [
        "for i in range(100):\n",
        "  print (np.argmax(pred_example[i]), '-', np.argmax(y_test[i]), end = ', ')"
      ],
      "execution_count": null,
      "outputs": [
        {
          "output_type": "stream",
          "text": [
            "7 - 7, 2 - 2, 1 - 1, 0 - 0, 4 - 4, 1 - 1, 4 - 4, 9 - 9, 5 - 5, 9 - 9, 0 - 0, 6 - 6, 9 - 9, 0 - 0, 1 - 1, 5 - 5, 9 - 9, 7 - 7, 3 - 3, 4 - 4, 9 - 9, 6 - 6, 6 - 6, 5 - 5, 4 - 4, 0 - 0, 7 - 7, 4 - 4, 0 - 0, 1 - 1, 3 - 3, 1 - 1, 3 - 3, 4 - 4, 7 - 7, 2 - 2, 7 - 7, 1 - 1, 2 - 2, 1 - 1, 1 - 1, 7 - 7, 4 - 4, 2 - 2, 3 - 3, 5 - 5, 1 - 1, 2 - 2, 4 - 4, 4 - 4, 6 - 6, 3 - 3, 5 - 5, 5 - 5, 6 - 6, 0 - 0, 4 - 4, 1 - 1, 9 - 9, 5 - 5, 7 - 7, 8 - 8, 9 - 9, 3 - 3, 7 - 7, 4 - 4, 6 - 6, 4 - 4, 3 - 3, 0 - 0, 7 - 7, 0 - 0, 2 - 2, 9 - 9, 1 - 1, 7 - 7, 3 - 3, 2 - 2, 9 - 9, 7 - 7, 7 - 7, 6 - 6, 2 - 2, 7 - 7, 8 - 8, 4 - 4, 7 - 7, 3 - 3, 6 - 6, 1 - 1, 3 - 3, 6 - 6, 9 - 9, 3 - 3, 1 - 1, 4 - 4, 1 - 1, 7 - 7, 6 - 6, 9 - 9, "
          ],
          "name": "stdout"
        }
      ]
    },
    {
      "cell_type": "code",
      "metadata": {
        "id": "rf4amzw9XpVp"
      },
      "source": [
        "(x_train_org, y_train_org), (x_test_org, y_test_org) = mnist.load_data()\n",
        "\n",
        "# Меняем формат входных картинок с 28х28 на 784х1\n",
        "x_train = x_train_org.reshape(60000, 784)\n",
        "x_test = x_test_org.reshape(10000, 784)"
      ],
      "execution_count": null,
      "outputs": []
    },
    {
      "cell_type": "code",
      "metadata": {
        "id": "9aKL8r9yX1XJ",
        "outputId": "2509edfe-1ba7-4d16-c825-da05afb712e6",
        "colab": {
          "base_uri": "https://localhost:8080/",
          "height": 51
        }
      },
      "source": [
        "a = mnist.load_data()\n",
        "for i in a:\n",
        "  print(len(i[0]), len(i[1]))"
      ],
      "execution_count": null,
      "outputs": [
        {
          "output_type": "stream",
          "text": [
            "60000 60000\n",
            "10000 10000\n"
          ],
          "name": "stdout"
        }
      ]
    }
  ]
}