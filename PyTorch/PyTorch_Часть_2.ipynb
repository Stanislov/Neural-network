{
  "nbformat": 4,
  "nbformat_minor": 0,
  "metadata": {
    "colab": {
      "name": "PyTorch. Часть_2",
      "provenance": [],
      "collapsed_sections": [],
      "machine_shape": "hm"
    },
    "kernelspec": {
      "name": "python3",
      "display_name": "Python 3"
    },
    "accelerator": "GPU"
  },
  "cells": [
    {
      "cell_type": "markdown",
      "metadata": {
        "id": "WkylGd3gbYyG"
      },
      "source": [
        "# Регрессия "
      ]
    },
    {
      "cell_type": "markdown",
      "metadata": {
        "id": "ASv-k4FEP_8S"
      },
      "source": [
        "**Импортируем библиотеки**"
      ]
    },
    {
      "cell_type": "code",
      "metadata": {
        "id": "iczH7mSwP1W5"
      },
      "source": [
        "from sklearn.preprocessing import StandardScaler\n",
        "from sklearn.model_selection import train_test_split\n",
        "\n",
        "import tensorflow as tf #Импортируем tensorflow\n",
        "from tensorflow.keras import utils #Для работы с категориальными данными \n",
        "from keras.preprocessing.text import Tokenizer, text_to_word_sequence\n",
        "\n",
        "import torch \n",
        "import torchvision # здесь лежит mnist, cifar и много других датасетов и трансформаций для картинок\n",
        "import torch.nn as nn # здесь лежат все слои\n",
        "import torch.utils.data as data # работа с загрузчиком данных\n",
        "import torchvision.transforms as transforms\n",
        "import torchvision.datasets as dsets #работа с классом Датасет\n",
        "\n",
        "import pandas as pd\n",
        "import numpy as np #Для работы с матрицами \n",
        "import random #Для генерации случайных чисел \n",
        "import matplotlib.pyplot as plt #Для виузализации \n",
        "# import datetime, os #Для подсчета времени и работы с файловой системой"
      ],
      "execution_count": null,
      "outputs": []
    },
    {
      "cell_type": "code",
      "metadata": {
        "id": "73MIWNXfcYv5"
      },
      "source": [
        "from google.colab import drive\n",
        "drive.mount('/content/drive')"
      ],
      "execution_count": null,
      "outputs": []
    },
    {
      "cell_type": "markdown",
      "metadata": {
        "id": "KR0hcUZImxgD"
      },
      "source": [
        "# Формирование тестовой и обучающей выборки \n",
        "\n"
      ]
    },
    {
      "cell_type": "code",
      "metadata": {
        "id": "ViX-BC4PcZbM"
      },
      "source": [
        "df = pd.read_csv('/content/drive/My Drive/Базы/moscow.csv', sep=\";\") #Загружаем данные в data frame\n",
        "df = df.iloc[::2,:] #Выбираем нечётные строки, в чётных строках в исходном фрейме пустые строки для комментариев\n",
        "data = df.values #Вытаскиваем данные в numpy array"
      ],
      "execution_count": null,
      "outputs": []
    },
    {
      "cell_type": "code",
      "metadata": {
        "id": "JOJF1LvGckzT"
      },
      "source": [
        "#Во всех функция дальше\n",
        "#d - описание квартиры, одна строка из data1\n",
        "\n",
        "#Вычисляем количество комнат\n",
        "#maxRoomCount - максимальное число комнат в квартире\n",
        "def getRoomsCount(d, maxRoomCount):\n",
        "  roomsCountStr = d[0] #Получаем строку с числом комнат\n",
        "\n",
        "  roomsCount = 0\n",
        "  try:\n",
        "    roomsCount = int(roomsCountStr) #Пробуем превратить строку в число\n",
        "    if (roomsCount > maxRoomCount): \n",
        "      roomsCount = maxRoomCount #Если число комнат больше максимального, то присваиваем максимальное\n",
        "  except: #Если не получается превратить строку в число\n",
        "    if (roomsCountStr == roomsCountStr): #Проверяем строку на nan (сравнение с самим собой)\n",
        "      if (\"Ст\" in roomsCountStr): #Еcть строка = \"Ст\", значит это Студия\n",
        "        roomsCount = maxRoomCount + 1\n",
        "\n",
        "  return roomsCount\n",
        "\n",
        "#Превращаем число комнат в категорию\n",
        "def getRoomsCountCategory(d, maxRoomCount):\n",
        "  roomsCount = getRoomsCount(d, maxRoomCount) #Получаем число комнат\n",
        "  roomsCount = utils.to_categorical(roomsCount, maxRoomCount+2) #Превращаем в категорию\n",
        "  #maxRoomCount+2 потому что 0 зарезервирован на неопознаное число комнат, а maxRoomCount+1 на \"Студию\"\n",
        "  return roomsCount\n",
        "\n",
        "#Получаем индекс станции метро\n",
        "#allMetroNames - все уникальные названия метро в базе\n",
        "def getMetro(d, allMetroNames):\n",
        "  metroStr = d[1] #Получаем строку метро\n",
        "  metro = 0\n",
        "  \n",
        "  if (metroStr in allMetroNames): #Если находим метро во всех названиях\n",
        "    metro = allMetroNames.index(metroStr)+1 #Присваиваем индекс\n",
        "    #+1 так как 0 зарезервирован на неопознанное метро\n",
        "    \n",
        "  return metro\n",
        "\n",
        "#Получаем тип метро\n",
        "#0 - внутри кольца\n",
        "#1 - кольцо\n",
        "#2 - 1-3 станции от конца\n",
        "#3 - 4-8 станций от кольца\n",
        "#4 - больше 8 станций от кольца\n",
        "def getMetroType(d):\n",
        "  metroTypeStr = d[1] #Получаем строку метро\n",
        "  metroTypeClasses = 5 #Число классов метро\n",
        "  metroType = metroTypeClasses - 1 #Изначально считаем последний класс\n",
        "  \n",
        "  #Метро внутри кольца\n",
        "  metroNamesInsideCircle = [\"Площадь Революции\", \"Арбатская\", \"Смоленская\", \"Красные Ворота\", \"Чистые пруды\", \"Лубянка\", \"Охотный Ряд\", \"Библиотека имени Ленина\", \"Кропоткинская\", \"Сухаревская\", \"Тургеневская\", \"Китай-город\", \"Третьяковская\", \"Трубная\", \"Сретенский бульвар\", \"Цветной бульвар\", \"Чеховская\", \"Боровицкая\", \"Полянка\", \"Маяковская\", \"Тверская\", \"Театральная\", \"Новокузнецкая\", \"Пушкинская\", \"Кузнецкий Мост\", \"Китай-город\", \"Александровский сад\"]\n",
        "  #Метро на кольце\n",
        "  metroNamesCircle = [\"Киевская\", \"Парк Культуры\", \"Октябрьская\", \"Добрынинская\", \"Павелецкая\", \"Таганская\", \"Курская\", \"Комсомольская\", \"Проспект Мира\", \"Новослободская\", \"Белорусская\", \"Краснопресненская\"]\n",
        "  #Метро 1-3 станции от кольца\n",
        "  metroNames13FromCircle = [\"Бауманская\", \"Электрозаводская\", \"Семёновская\", \"Площадь Ильича\", \"Авиамоторная\", \"Шоссе Энтузиастов\", \"Римская\", \"Крестьянская Застава\", \"Дубровка\", \"Пролетарская\", \"Волгоградский проспект\", \"Текстильщики\", \"Автозаводская\", \"Технопарк\", \"Коломенская\", \"Тульская\", \"Нагатинская\", \"Нагорная\", \"Шаболовская\", \"Ленинский проспект\", \"Академическая\", \"Фрунзенская\", \"Спортивная\", \"Воробьёвы горы\", \"Студенческая\", \"Кутузовская\", \"Фили\", \"Парк Победы\", \"Выставочная\", \"Международная\", \"Улица 1905 года\", \"Беговая\", \"Полежаевская\", \"Динамо\", \"Аэропорт\", \"Сокол\", \"Деловой центр\", \"Шелепиха\", \"Хорошёвская\", \"ЦСКА\", \"Петровский парк\", \"Савёловская\", \"Дмитровская\", \"Тимирязевская\", \"Достоевская\", \"Марьина Роща\", \"Бутырская\", \"Фонвизинская\", \"Рижская\", \"Алексеевская\", \"ВДНХ\", \"Красносельская\", \"Сокольники\", \"Преображенская площадь\"]\n",
        "  #Метро 4-8 станций от кольа\n",
        "  metroNames48FromCircle = [\"Партизанская\", \"Измайловская\", \"Первомайская\", \"Щёлковская\", \"Новокосино\", \"Новогиреево\", \"Перово\", \"Кузьминки\", \"Рязанский проспект\", \"Выхино\", \"Лермонтовский проспект\", \"Жулебино\", \"Партизанская\", \"Измайловская\", \"Первомайская\", \"Щёлковская\", \"Новокосино\", \"Новогиреево\", \"Перово\", \"Кузьминки\", \"Рязанский проспект\", \"Выхино\", \"Лермонтовский проспект\", \"Жулебино\", \"Улица Дмитриевского\", \"Кожуховская\", \"Печатники\", \"Волжская\", \"Люблино\", \"Братиславская\", \"Коломенская\", \"Каширская\", \"Кантемировская\", \"Царицыно\", \"Орехово\", \"Севастопольская\", \"Чертановская\", \"Южная\", \"Пражская\", \"Варшавская\", \"Профсоюзная\", \"Новые Черёмушки\", \"Калужская\", \"Беляево\", \"Коньково\", \"Университет\", \"Багратионовская\", \"Филёвский парк\", \"Пионерская\", \"Кунцевская\", \"Молодёжная\", \"Октябрьское Поле\", \"Щукинская\", \"Спартак\", \"Тушинская\", \"Сходненская\", \"Войковская\", \"Водный стадион\", \"Речной вокзал\", \"Беломорская\", \"Ховрино\", \"Петровско-Разумовская\", \"Владыкино\", \"Отрадное\", \"Бибирево\", \"Алтуфьево\", \"Фонвизинская\", \"Окружная\", \"Верхние Лихоборы\", \"Селигерская\", \"ВДНХ\", \"Ботанический сад\", \"Свиблово\", \"Бабушкинская\", \"Медведково\", \"Преображенская площадь\", \"Черкизовская\", \"Бульвар Рокоссовского\"]\n",
        "  \n",
        "  #Проверяем, в какую категорию попадает наша станция\n",
        "  if (metroTypeStr in metroNamesInsideCircle):\n",
        "    metroType = 0\n",
        "  if (metroTypeStr in metroNamesCircle):\n",
        "    metroType = 1\n",
        "  if (metroTypeStr in metroNames13FromCircle):\n",
        "    metroType = 2\n",
        "  if (metroTypeStr in metroNames48FromCircle):\n",
        "    metroType = 3\n",
        "  \n",
        "  #Превращаем результат в категорию\n",
        "  metroType = utils.to_categorical(metroType, metroTypeClasses)\n",
        "  return metroType\n",
        "\n",
        "\n",
        "#Вычисляем растояние до метро\n",
        "def getMetroDistance(d):\n",
        "  metroDistanceStr = d[2] #Получаем строку\n",
        "  \n",
        "  metroDistance = 0 #Расстояние до метро\n",
        "  metroDistanceType = 0 #Тип расстояния - пешком или на транспорте\n",
        "  \n",
        "  #ЕСли строка не равна nan  \n",
        "  if (metroDistanceStr == metroDistanceStr):\n",
        "    if (len(metroDistanceStr) > 0):\n",
        "      #Определяем тип расстояния\n",
        "      if (metroDistanceStr[-1] == \"п\"):\n",
        "        metroDistanceType = 1 #Пешком\n",
        "      elif (metroDistanceStr[-1] == \"т\"):\n",
        "        metroDistanceType = 2 #На транспорте\n",
        "\n",
        "      #Выбрасываем последний символ, чтобы осталось только число\n",
        "      metroDistanceStr = metroDistanceStr[:-1]\n",
        "      try:\n",
        "        #Разделяем дистанции на категории\n",
        "        metroDistance = int(metroDistanceStr)\n",
        "        if (metroDistance < 3):\n",
        "          metroDistance = 1\n",
        "        elif (metroDistance < 6):\n",
        "          metroDistance = 2\n",
        "        elif (metroDistance < 10):\n",
        "          metroDistance = 3\n",
        "        elif (metroDistance < 15):\n",
        "          metroDistance = 4\n",
        "        elif (metroDistance < 20):\n",
        "          metroDistance = 5\n",
        "        else:\n",
        "          metroDistance = 6\n",
        "      except: #Если в строке не число, то категория 0\n",
        "        metroDistance = 0\n",
        "  \n",
        "  #Число классов дистанции\n",
        "  metroDistanceClasses = 7\n",
        "  \n",
        "  #У нас 7 категорий дистанции по расстоянию\n",
        "  #И 3 типа дистанции - неопознанный, пешком и транспортом\n",
        "  #Мы создадим вектор длины 3*7 = 21\n",
        "  #Будем преобразовывать индекс расстояния 0-6 в 0-20\n",
        "  #Для типа \"Пешком\" - ничего не меняем\n",
        "  if (metroDistanceType == 2):\n",
        "    metroDistance += metroDistanceClasses #Для типа \"Транспортом\" добавляем 7\n",
        "  if (metroDistanceType == 0):\n",
        "    metroDistance += 2*metroDistanceClasses #Для неопознанного типа добавляем 14\n",
        "    \n",
        "  #Превращаем в категории\n",
        "  metroDistance = utils.to_categorical(metroDistance, 3*metroDistanceClasses)\n",
        "  return metroDistance\n",
        "\n",
        "#Получаем 4 данных\n",
        "#- этаж квартиры\n",
        "#- этажность дома\n",
        "#- индикатор, что последний этаж\n",
        "#- тип дома\n",
        "def getHouseTypeAndFloor(d):\n",
        "  try:\n",
        "    houseStr = d[3] #Получаем строку типа дома и этажей\n",
        "  except:\n",
        "    houseStr = \"\"\n",
        "  \n",
        "  houseType = 0 #Тип дома\n",
        "  floor = 0 #Этаж квартиры\n",
        "  floors = 0 #Этажность дома\n",
        "  isLastFloor = 0 #Индикатор последнего этажа\n",
        "  \n",
        "  #Проверяем строку на nan\n",
        "  if (houseStr == houseStr):\n",
        "    if (len(houseStr) > 1):\n",
        "    \n",
        "      try:\n",
        "        slashIndex = houseStr.index(\"/\") #Ищем разделитель /\n",
        "      except:\n",
        "        print(houseStr)\n",
        "\n",
        "      try:\n",
        "        spaceIndex = houseStr.index(\" \") #Ищем разделитель \" \"\n",
        "      except:\n",
        "        print(houseStr)\n",
        "\n",
        "      #Вытаскиваем строки\n",
        "      floorStr = houseStr[:slashIndex] #Строка этажа\n",
        "      floorsStr = houseStr[slashIndex+1:spaceIndex] #Строка этажнгости дома\n",
        "      houseTypeStr = houseStr[spaceIndex+1:] #Строка типа дома\n",
        "\n",
        "      #Выбираем категорию этажа\n",
        "      try:\n",
        "        floor = int(floorStr) #Превращаем строку в число\n",
        "        floorSave = floor\n",
        "        if (floorSave < 5):\n",
        "          floor = 2\n",
        "        if (floorSave < 10):\n",
        "          floor = 3\n",
        "        if (floorSave < 20):\n",
        "          floor = 4\n",
        "        if (floorSave >= 20):\n",
        "          floor = 5\n",
        "        if (floorSave == 1): #Первый этаж выделяем в отдельную категорию\n",
        "          floor = 1 \n",
        "\n",
        "        if (floor == floors): #Если этаж последний, включаем индикатор последнего этажа\n",
        "          isLastFloor = 1 \n",
        "      except:\n",
        "        floor = 0 #Если строка не парсится в число, то категория этажа = 0 (отдельная)\n",
        "\n",
        "      #Выбираем категорию этажности дома\n",
        "      try:\n",
        "        floors = int(floorsStr) #Превращаем строку в число\n",
        "        floorsSave = floors\n",
        "        if (floorsSave < 5):\n",
        "          floors = 1\n",
        "        if (floorsSave < 10):\n",
        "          floors = 2\n",
        "        if (floorsSave < 20):\n",
        "          floors = 3\n",
        "        if (floorsSave >= 20):\n",
        "          floors = 4\n",
        "      except:\n",
        "        floors = 0 #Если строка не парсится в число, то категория этажности = 0 (отдельная)\n",
        "\n",
        "      #Определяем категорию типа дома\n",
        "      if (len(houseTypeStr) > 0):\n",
        "        if (\"М\" in houseTypeStr): \n",
        "          houseType = 1\n",
        "        if (\"К\" in houseTypeStr): \n",
        "          houseType = 2\n",
        "        if (\"П\" in houseTypeStr): \n",
        "          houseType = 3\n",
        "        if (\"Б\" in houseTypeStr): \n",
        "          houseType = 4\n",
        "        if (\"?\" in houseTypeStr): \n",
        "          houseType = 5\n",
        "        if (\"-\" in houseTypeStr): \n",
        "          houseType = 6\n",
        "    \n",
        "    #Превращаем все категории в one hot encoding\n",
        "    floor = utils.to_categorical(floor, 6)\n",
        "    floors = utils.to_categorical(floors, 5)\n",
        "    houseType = utils.to_categorical(houseType, 7)\n",
        "    \n",
        "    \n",
        "  return floor, floors, isLastFloor, houseType\n",
        "\n",
        "\n",
        "#Вычисляем тип балкона\n",
        "def getBalcony(d):\n",
        "  balconyStr = d[4] #Полуаем строку\n",
        "  #Выписываем все варианты балконов в базе\n",
        "  balconyVariants = ['Л', 'Б', '2Б', '-', '2Б2Л', 'БЛ', '3Б', '2Л', 'Эрк', 'Б2Л', 'ЭркЛ', '3Л', '4Л', '*Л', '*Б']\n",
        "  #Проверяем на nan\n",
        "  if (balconyStr == balconyStr):\n",
        "    balcony = balconyVariants.index(balconyStr)+1 #Находим индекс строки балкона во всех строках\n",
        "  else:\n",
        "    balcony = 0 #Индекс 0 выделяем на строку nan\n",
        "  \n",
        "  #Превращаем в one hot encoding\n",
        "  balcony = utils.to_categorical(balcony, 16)\n",
        "  \n",
        "  return balcony\n",
        "\n",
        "#Определяем тип санузла\n",
        "def getWC(d):\n",
        "  wcStr = d[5] #Получаем строку\n",
        "  #Выписываем все варианты санузлов в базе\n",
        "  wcVariants = ['2', 'Р', 'С', '-', '2С', '+', '4Р', '2Р', '3С', '4С', '4', '3', '3Р']\n",
        "  #Проверяем на nan\n",
        "  if (wcStr == wcStr):\n",
        "    wc = wcVariants.index(wcStr)+1 #Находим индекс строки санузла во всех строках\n",
        "  else:\n",
        "    wc = 0 #Индекс 0 выделяем на строку nan\n",
        "  \n",
        "  #Превращаем в one hot encoding\n",
        "  wc = utils.to_categorical(wc, 14)\n",
        "  \n",
        "  return wc\n",
        "\n",
        "#Определяем площадь\n",
        "def getArea(d):\n",
        "  areaStr = d[6] #Поулачем строку площади\n",
        "  \n",
        "  if (\"/\" in areaStr):\n",
        "    slashIndex = areaStr.index(\"/\") #Находим разделитель /\n",
        "    try:\n",
        "      area = float(areaStr[:slashIndex]) #Берём число до разделителя и превращаем в число\n",
        "    except:\n",
        "      area = 0 #Если не получается, возвращаем 0\n",
        "  else:\n",
        "    area = 0 #Или если нет разделителя, возвращаем 0\n",
        "    \n",
        "  return area\n",
        "\n",
        "#Полуаем цену\n",
        "def getCost(d):\n",
        "  costStr = d[7] #Загружаем строку\n",
        "  \n",
        "  try:\n",
        "    cost = float(costStr) #Пробуем превратить в число\n",
        "  except:\n",
        "    cost = 0 #Если не получается, возвращаем 0\n",
        "  \n",
        "  return cost\n",
        "\n",
        "#Получаем комментарий\n",
        "def getComment(d):\n",
        "  commentStr = d[-1] #Возвращаем данные из последней колонки\n",
        "  \n",
        "  return commentStr\n",
        "\n",
        "#Объединяем все числовые параметры вместе\n",
        "def getAllParameters(d, allMetroNames):\n",
        "  #Загружаем все данные по отдельности\n",
        "  roomsCountType = getRoomsCountCategory(d, 30)\n",
        "  metro = getMetro(d, allMetroNames)\n",
        "  metroType = getMetroType(d)\n",
        "  metroDistance = getMetroDistance(d)\n",
        "  floor, floors, isLastFloor, houseType = getHouseTypeAndFloor(d)\n",
        "  balcony = getBalcony(d)\n",
        "  wc = getWC(d)\n",
        "  area = getArea(d)\n",
        "\n",
        "  #Объединяем в один лист\n",
        "  out = list(roomsCountType)\n",
        "  out.append(metro)\n",
        "  out.extend(metroType)\n",
        "  out.extend(metroDistance)\n",
        "  out.extend(floor)\n",
        "  out.extend(floors)\n",
        "  out.append(isLastFloor)\n",
        "  out.extend(houseType)\n",
        "  out.extend(balcony)\n",
        "  out.extend(wc)\n",
        "  out.append(area)\n",
        "  \n",
        "  return out\n",
        "\n",
        "#Генерируем обучающаюу выборку - xTrain\n",
        "def getXTrain(data):\n",
        "  \n",
        "  #Получаем строку во всеми вариантами метро\n",
        "  allMertroNames = list(df[\"Метро / ЖД станции\"].unique())\n",
        "  \n",
        "  #Всевращаем все строки в data1 в векторы параметров и записываем в xTrain\n",
        "  xTrain = [getAllParameters(d, allMertroNames) for d in data]\n",
        "  xTrain = np.array(xTrain)\n",
        "  \n",
        "  return xTrain\n",
        "\n",
        "#Генерируем обучающую выборку - yTrain\n",
        "def getYTrain(data):\n",
        "  \n",
        "  #Зашружаем лист всех цен квартир по всем строкам data1\n",
        "  costList = [getCost(d) for d in data] \n",
        "  yTrain = np.array(costList)\n",
        "  \n",
        "  return yTrain"
      ],
      "execution_count": null,
      "outputs": []
    },
    {
      "cell_type": "code",
      "metadata": {
        "id": "ZLdWoF8JczvC",
        "outputId": "5d189de7-6018-4474-b2bd-c3480b7c8e6d",
        "colab": {
          "base_uri": "https://localhost:8080/",
          "height": 51
        }
      },
      "source": [
        "oneRoomMask = [getRoomsCount(d, 30) == 1 for d in data] #Делаем маску однокомнатных квартир, принцип (getRoomsCount(d, 30) == 1)\n",
        "data1 = data[oneRoomMask] #В data1 оставляем только однокомнатные квартиры\n",
        "print(data.shape)\n",
        "print(data1.shape)"
      ],
      "execution_count": null,
      "outputs": [
        {
          "output_type": "stream",
          "text": [
            "(126268, 14)\n",
            "(62504, 14)\n"
          ],
          "name": "stdout"
        }
      ]
    },
    {
      "cell_type": "code",
      "metadata": {
        "id": "4P55mtpEc1ET"
      },
      "source": [
        "xTrain = getXTrain(data1)\n",
        "yTrain = getYTrain(data1)"
      ],
      "execution_count": null,
      "outputs": []
    },
    {
      "cell_type": "code",
      "metadata": {
        "id": "m625KImbd9Gr"
      },
      "source": [
        "###########################\n",
        "# Формируем обучающую выборку из примечаний к квартирам\n",
        "# Пока в виде слов\n",
        "##########################\n",
        "def getXTrainComments(data):\n",
        "  xTrainComments = [] #Тут будет обучающся выборка\n",
        "  \n",
        "  #Идём по всем строкам квартир в базе\n",
        "  for d in data:\n",
        "    currText = getComment(d) #Вытаскиваем примечание к квартире\n",
        "    if (type(currText)!=str): #Проверяем на nan\n",
        "      currText = \"Нет комментария\" #Если не получается, то делаем стандартный текст \"Нет комментария\"\n",
        "    xTrainComments.append(currText) #Добавляем примечание новой строкой в обучающую выборку\n",
        "  \n",
        "  xTrainComments = np.array(xTrainComments)\n",
        "  \n",
        "  return xTrainComments"
      ],
      "execution_count": null,
      "outputs": []
    },
    {
      "cell_type": "code",
      "metadata": {
        "id": "0ChvEe5XeSfj",
        "outputId": "e9e34c5a-a60b-41a0-e04a-81f138d0bc35",
        "colab": {
          "base_uri": "https://localhost:8080/",
          "height": 51
        }
      },
      "source": [
        "#Выводим раземры обучающей выборки\n",
        "#Чтобы проверить, что мы всё правильно собрали\n",
        "print(xTrain.shape)\n",
        "print(yTrain.shape)"
      ],
      "execution_count": null,
      "outputs": [
        {
          "output_type": "stream",
          "text": [
            "(62504, 109)\n",
            "(62504,)\n"
          ],
          "name": "stdout"
        }
      ]
    },
    {
      "cell_type": "code",
      "metadata": {
        "id": "tAOPftNven64"
      },
      "source": [
        "#Нормируем размер квартиры в xTrain\n",
        "xScaler = StandardScaler() #Создаём нормировщик нормальным распределением\n",
        "xScaler.fit(xTrain[:,-1].reshape(-1, 1)) #Обучаем его на площадях квартир (последня колонка в xTrain)\n",
        "xTrainScaled = xTrain.copy()\n",
        "xTrainScaled[:,-1] = xScaler.transform(xTrain[:,-1].reshape(-1, 1)).flatten() #Нормируем данные нормировщиком"
      ],
      "execution_count": null,
      "outputs": []
    },
    {
      "cell_type": "code",
      "metadata": {
        "id": "VYgkb3sBrrfN"
      },
      "source": [
        "yScaler = StandardScaler() \n",
        "yScaler.fit(yTrain.reshape(-1, 1)) #Обучаем на ценах квартир\n",
        "yTrainScaled = yScaler.transform(yTrain.reshape(-1, 1)) #Нормируем цены квартир"
      ],
      "execution_count": null,
      "outputs": []
    },
    {
      "cell_type": "code",
      "metadata": {
        "id": "c7o_9iSIkoPx",
        "outputId": "54cd1444-1eb0-4949-fd35-b1f4d793114a",
        "colab": {
          "base_uri": "https://localhost:8080/",
          "height": 85
        }
      },
      "source": [
        "X_train, X_test, y_train, y_test = train_test_split(xTrainScaled, yTrainScaled, test_size=0.20, random_state=42)\n",
        "print(X_train.shape[0])\n",
        "print(y_train.shape)\n",
        "print(X_test.shape)\n",
        "print(y_test.shape)"
      ],
      "execution_count": null,
      "outputs": [
        {
          "output_type": "stream",
          "text": [
            "50003\n",
            "(50003, 1)\n",
            "(12501, 109)\n",
            "(12501, 1)\n"
          ],
          "name": "stdout"
        }
      ]
    },
    {
      "cell_type": "markdown",
      "metadata": {
        "id": "fs02pgecQ7rW"
      },
      "source": [
        "**Параметры обучения и оптимизации**"
      ]
    },
    {
      "cell_type": "code",
      "metadata": {
        "id": "k9r2qS7Ei12b",
        "outputId": "95d1c922-9c90-4b23-f615-e197f4c73945",
        "colab": {
          "base_uri": "https://localhost:8080/",
          "height": 136
        }
      },
      "source": [
        "xTrain = torch.from_numpy(X_train).float()\n",
        "yTrain = torch.from_numpy(y_train).float()\n",
        "\n",
        "xTest = torch.from_numpy(X_test).float()\n",
        "yTest = torch.from_numpy(y_test).float()\n",
        "print(xTrain)"
      ],
      "execution_count": null,
      "outputs": [
        {
          "output_type": "stream",
          "text": [
            "tensor([[ 0.0000,  1.0000,  0.0000,  ...,  0.0000,  0.0000, -0.3843],\n",
            "        [ 0.0000,  1.0000,  0.0000,  ...,  0.0000,  0.0000, -0.3787],\n",
            "        [ 0.0000,  1.0000,  0.0000,  ...,  0.0000,  0.0000,  0.2089],\n",
            "        ...,\n",
            "        [ 0.0000,  1.0000,  0.0000,  ...,  0.0000,  0.0000, -0.0350],\n",
            "        [ 0.0000,  1.0000,  0.0000,  ...,  0.0000,  0.0000, -0.1348],\n",
            "        [ 0.0000,  1.0000,  0.0000,  ...,  0.0000,  0.0000, -0.1847]])\n"
          ],
          "name": "stdout"
        }
      ]
    },
    {
      "cell_type": "code",
      "metadata": {
        "id": "Bx2TG5tjTwyp"
      },
      "source": [
        "inputSize = 109\n",
        "hidden = 200\n",
        "\n",
        "batch_size = 100\n",
        "lr = 0.0001 \n",
        "epochs = 100\n",
        "\n",
        "trainData = torch.utils.data.TensorDataset(xTrain,yTrain)\n",
        "trainLoader = torch.utils.data.DataLoader(dataset=trainData,\n",
        "                                           batch_size=batch_size, \n",
        "                                           shuffle=False,\n",
        "                                           num_workers=4,)"
      ],
      "execution_count": null,
      "outputs": []
    },
    {
      "cell_type": "code",
      "metadata": {
        "id": "TwI5Ctn-DSkr"
      },
      "source": [
        "class Regression(nn.Module):\n",
        "    def __init__(self, input_size, hidden_size):\n",
        "        super().__init__() \n",
        "        self.layer1 = nn.Linear(inputSize, hidden_size)\n",
        "        self.relu = nn.ReLU() \n",
        "        self.dropout = nn.Dropout(p=0.3)\n",
        "        self.layer2 = nn.Linear(hidden_size, 1)\n",
        "        #self.linear = nn.Linear(dim = 1)\n",
        "\n",
        "    def forward(self, x):\n",
        "        out = self.layer1(x)\n",
        "        out = self.relu(out)\n",
        "        out = self.dropout(out)\n",
        "        out = self.layer2(out)\n",
        "        #out = self.linear(out)\n",
        "        return out\n",
        "\n",
        "model = Regression(inputSize, hidden)"
      ],
      "execution_count": null,
      "outputs": []
    },
    {
      "cell_type": "code",
      "metadata": {
        "id": "hERkriMDRBLz",
        "outputId": "bc7c4ab3-a753-450a-d1c9-9a72532a49c5",
        "colab": {
          "base_uri": "https://localhost:8080/",
          "height": 119
        }
      },
      "source": [
        "criterion = nn.MSELoss() \n",
        "optimizer = torch.optim.Adam(model.parameters(), lr=lr)  # оптимизатор\n",
        "losses = [] # сюда будет добавляться средняя ошибка. Список будем использовать для построения графика\n",
        "model.train() # переход в режим обучения (опционально)"
      ],
      "execution_count": null,
      "outputs": [
        {
          "output_type": "execute_result",
          "data": {
            "text/plain": [
              "Regression(\n",
              "  (layer1): Linear(in_features=109, out_features=200, bias=True)\n",
              "  (relu): ReLU()\n",
              "  (dropout): Dropout(p=0.3, inplace=False)\n",
              "  (layer2): Linear(in_features=200, out_features=1, bias=True)\n",
              ")"
            ]
          },
          "metadata": {
            "tags": []
          },
          "execution_count": 15
        }
      ]
    },
    {
      "cell_type": "code",
      "metadata": {
        "id": "uYhzwUSl-p-a",
        "outputId": "917d1f4d-d69f-439f-b25e-83c63ee5f1eb",
        "colab": {
          "base_uri": "https://localhost:8080/",
          "height": 1000
        }
      },
      "source": [
        "for epoch in range(epochs): # количество эпох\n",
        "    lossTot = 0 # потери в совокупности\n",
        "\n",
        "    batch = 1\n",
        "    for (data, labels) in trainLoader: # проходимся по всем данным в batch\n",
        "        label = labels.type(torch.FloatTensor)\n",
        "        optimizer.zero_grad() # Обнуляем градиент\n",
        "        outputs = model(data) # Считаем predict\n",
        "        output = outputs.type(torch.FloatTensor)\n",
        "        loss = criterion(output, label) # Cчитаем ошибку \n",
        "        loss.backward()  # Обратное распространение\n",
        "\n",
        "        lossTot += loss.detach().data # инкремент ошибки\n",
        "\n",
        "        predUnscaled = yScaler.inverse_transform(model(xTest[0:100]).detach()).flatten() #Делаем обратное нормирование выхода к изначальным величинам цен квартир\n",
        "        yTrainUnscaled = yScaler.inverse_transform(yTest[0:100]).flatten() #Делаем такое же обратное нормирование yTrain к базовым ценам\n",
        "        delta = predUnscaled - yTrainUnscaled #Считаем разность предсказания и правильных цен\n",
        "        absDelta = abs(delta) #Берём модуль отклонения\n",
        "        price_loss = round(sum(absDelta) / (1e+6 * len(absDelta)),3) #Считаем ошибку в миллионах рублей для тестовой выборки\n",
        "\n",
        "        optimizer.step() # следующий шаг спуска\n",
        "        batch += 1\n",
        "\n",
        "    losses.append(lossTot/len(trainData)) # вычисляем среднюю ошибку и добавляем в список\n",
        "\n",
        "    print('Эпоха: [%d/%d], Ошибка: %.4f. Ошибка в млн. рублей: %.4f' % (epoch+1, epochs, loss, price_loss))\n",
        "    \n",
        "plt.plot(losses)\n",
        "plt.show()"
      ],
      "execution_count": null,
      "outputs": [
        {
          "output_type": "stream",
          "text": [
            "Эпоха: [1/100], Ошибка: 0.6802. Ошибка в млн. рублей: 17.8650\n",
            "Эпоха: [2/100], Ошибка: 0.2053. Ошибка в млн. рублей: 11.3910\n",
            "Эпоха: [3/100], Ошибка: 0.0469. Ошибка в млн. рублей: 8.3810\n",
            "Эпоха: [4/100], Ошибка: 0.2227. Ошибка в млн. рублей: 6.3060\n",
            "Эпоха: [5/100], Ошибка: 0.1305. Ошибка в млн. рублей: 5.7230\n",
            "Эпоха: [6/100], Ошибка: 0.0538. Ошибка в млн. рублей: 4.0150\n",
            "Эпоха: [7/100], Ошибка: 0.0121. Ошибка в млн. рублей: 3.9920\n",
            "Эпоха: [8/100], Ошибка: 0.0085. Ошибка в млн. рублей: 3.0640\n",
            "Эпоха: [9/100], Ошибка: 0.0090. Ошибка в млн. рублей: 3.4230\n",
            "Эпоха: [10/100], Ошибка: 0.0071. Ошибка в млн. рублей: 2.9720\n",
            "Эпоха: [11/100], Ошибка: 0.0245. Ошибка в млн. рублей: 2.8110\n",
            "Эпоха: [12/100], Ошибка: 0.0128. Ошибка в млн. рублей: 2.7300\n",
            "Эпоха: [13/100], Ошибка: 0.0045. Ошибка в млн. рублей: 2.7640\n",
            "Эпоха: [14/100], Ошибка: 0.0104. Ошибка в млн. рублей: 2.6310\n",
            "Эпоха: [15/100], Ошибка: 0.0077. Ошибка в млн. рублей: 2.8510\n",
            "Эпоха: [16/100], Ошибка: 0.0248. Ошибка в млн. рублей: 2.4360\n",
            "Эпоха: [17/100], Ошибка: 0.0104. Ошибка в млн. рублей: 2.2520\n",
            "Эпоха: [18/100], Ошибка: 0.0117. Ошибка в млн. рублей: 2.1370\n",
            "Эпоха: [19/100], Ошибка: 0.0249. Ошибка в млн. рублей: 1.9560\n",
            "Эпоха: [20/100], Ошибка: 0.0081. Ошибка в млн. рублей: 2.3330\n",
            "Эпоха: [21/100], Ошибка: 0.0059. Ошибка в млн. рублей: 1.8720\n",
            "Эпоха: [22/100], Ошибка: 0.0114. Ошибка в млн. рублей: 2.1660\n",
            "Эпоха: [23/100], Ошибка: 0.0222. Ошибка в млн. рублей: 1.8070\n",
            "Эпоха: [24/100], Ошибка: 0.0015. Ошибка в млн. рублей: 2.1450\n",
            "Эпоха: [25/100], Ошибка: 0.0038. Ошибка в млн. рублей: 1.7360\n",
            "Эпоха: [26/100], Ошибка: 0.0137. Ошибка в млн. рублей: 1.6720\n",
            "Эпоха: [27/100], Ошибка: 0.0072. Ошибка в млн. рублей: 1.6440\n",
            "Эпоха: [28/100], Ошибка: 0.0037. Ошибка в млн. рублей: 1.6910\n",
            "Эпоха: [29/100], Ошибка: 0.0088. Ошибка в млн. рублей: 1.7030\n",
            "Эпоха: [30/100], Ошибка: 0.0087. Ошибка в млн. рублей: 1.5560\n",
            "Эпоха: [31/100], Ошибка: 0.0033. Ошибка в млн. рублей: 1.6440\n",
            "Эпоха: [32/100], Ошибка: 0.0059. Ошибка в млн. рублей: 1.6490\n",
            "Эпоха: [33/100], Ошибка: 0.0038. Ошибка в млн. рублей: 1.6020\n",
            "Эпоха: [34/100], Ошибка: 0.0078. Ошибка в млн. рублей: 1.7740\n",
            "Эпоха: [35/100], Ошибка: 0.0032. Ошибка в млн. рублей: 1.5530\n",
            "Эпоха: [36/100], Ошибка: 0.0082. Ошибка в млн. рублей: 1.6720\n",
            "Эпоха: [37/100], Ошибка: 0.0128. Ошибка в млн. рублей: 1.5840\n",
            "Эпоха: [38/100], Ошибка: 0.0130. Ошибка в млн. рублей: 1.5120\n",
            "Эпоха: [39/100], Ошибка: 0.0042. Ошибка в млн. рублей: 1.5070\n",
            "Эпоха: [40/100], Ошибка: 0.0128. Ошибка в млн. рублей: 1.6130\n",
            "Эпоха: [41/100], Ошибка: 0.0044. Ошибка в млн. рублей: 1.4750\n",
            "Эпоха: [42/100], Ошибка: 0.0069. Ошибка в млн. рублей: 1.4740\n",
            "Эпоха: [43/100], Ошибка: 0.0052. Ошибка в млн. рублей: 1.2500\n",
            "Эпоха: [44/100], Ошибка: 0.0036. Ошибка в млн. рублей: 1.5930\n",
            "Эпоха: [45/100], Ошибка: 0.0078. Ошибка в млн. рублей: 1.3630\n",
            "Эпоха: [46/100], Ошибка: 0.0025. Ошибка в млн. рублей: 1.4900\n",
            "Эпоха: [47/100], Ошибка: 0.0079. Ошибка в млн. рублей: 1.3130\n",
            "Эпоха: [48/100], Ошибка: 0.0005. Ошибка в млн. рублей: 1.4440\n",
            "Эпоха: [49/100], Ошибка: 0.0038. Ошибка в млн. рублей: 1.4170\n",
            "Эпоха: [50/100], Ошибка: 0.0062. Ошибка в млн. рублей: 1.4490\n",
            "Эпоха: [51/100], Ошибка: 0.0042. Ошибка в млн. рублей: 1.5350\n",
            "Эпоха: [52/100], Ошибка: 0.0034. Ошибка в млн. рублей: 1.4790\n",
            "Эпоха: [53/100], Ошибка: 0.0090. Ошибка в млн. рублей: 1.4600\n",
            "Эпоха: [54/100], Ошибка: 0.0057. Ошибка в млн. рублей: 1.5520\n",
            "Эпоха: [55/100], Ошибка: 0.0075. Ошибка в млн. рублей: 1.3940\n",
            "Эпоха: [56/100], Ошибка: 0.0071. Ошибка в млн. рублей: 1.2730\n",
            "Эпоха: [57/100], Ошибка: 0.0088. Ошибка в млн. рублей: 1.5430\n",
            "Эпоха: [58/100], Ошибка: 0.0077. Ошибка в млн. рублей: 1.2880\n",
            "Эпоха: [59/100], Ошибка: 0.0076. Ошибка в млн. рублей: 1.4820\n",
            "Эпоха: [60/100], Ошибка: 0.0100. Ошибка в млн. рублей: 1.3460\n",
            "Эпоха: [61/100], Ошибка: 0.0126. Ошибка в млн. рублей: 1.3270\n",
            "Эпоха: [62/100], Ошибка: 0.0047. Ошибка в млн. рублей: 1.2790\n",
            "Эпоха: [63/100], Ошибка: 0.0065. Ошибка в млн. рублей: 1.2650\n",
            "Эпоха: [64/100], Ошибка: 0.0036. Ошибка в млн. рублей: 1.4580\n",
            "Эпоха: [65/100], Ошибка: 0.0088. Ошибка в млн. рублей: 1.4550\n",
            "Эпоха: [66/100], Ошибка: 0.0036. Ошибка в млн. рублей: 1.3490\n",
            "Эпоха: [67/100], Ошибка: 0.0090. Ошибка в млн. рублей: 1.3290\n",
            "Эпоха: [68/100], Ошибка: 0.0081. Ошибка в млн. рублей: 1.4380\n",
            "Эпоха: [69/100], Ошибка: 0.0082. Ошибка в млн. рублей: 1.4420\n",
            "Эпоха: [70/100], Ошибка: 0.0046. Ошибка в млн. рублей: 1.3980\n",
            "Эпоха: [71/100], Ошибка: 0.0025. Ошибка в млн. рублей: 1.4090\n",
            "Эпоха: [72/100], Ошибка: 0.0019. Ошибка в млн. рублей: 1.1980\n",
            "Эпоха: [73/100], Ошибка: 0.0042. Ошибка в млн. рублей: 1.5190\n",
            "Эпоха: [74/100], Ошибка: 0.0034. Ошибка в млн. рублей: 1.4340\n",
            "Эпоха: [75/100], Ошибка: 0.0022. Ошибка в млн. рублей: 1.3080\n",
            "Эпоха: [76/100], Ошибка: 0.0021. Ошибка в млн. рублей: 1.2170\n",
            "Эпоха: [77/100], Ошибка: 0.0126. Ошибка в млн. рублей: 1.4090\n",
            "Эпоха: [78/100], Ошибка: 0.0060. Ошибка в млн. рублей: 1.3870\n",
            "Эпоха: [79/100], Ошибка: 0.0031. Ошибка в млн. рублей: 1.4180\n",
            "Эпоха: [80/100], Ошибка: 0.0033. Ошибка в млн. рублей: 1.4090\n",
            "Эпоха: [81/100], Ошибка: 0.0085. Ошибка в млн. рублей: 1.4510\n",
            "Эпоха: [82/100], Ошибка: 0.0021. Ошибка в млн. рублей: 1.5150\n",
            "Эпоха: [83/100], Ошибка: 0.0058. Ошибка в млн. рублей: 1.4410\n",
            "Эпоха: [84/100], Ошибка: 0.0049. Ошибка в млн. рублей: 1.3550\n",
            "Эпоха: [85/100], Ошибка: 0.0021. Ошибка в млн. рублей: 1.3870\n",
            "Эпоха: [86/100], Ошибка: 0.0021. Ошибка в млн. рублей: 1.2910\n",
            "Эпоха: [87/100], Ошибка: 0.0051. Ошибка в млн. рублей: 1.5260\n",
            "Эпоха: [88/100], Ошибка: 0.0098. Ошибка в млн. рублей: 1.2870\n",
            "Эпоха: [89/100], Ошибка: 0.0059. Ошибка в млн. рублей: 1.3280\n",
            "Эпоха: [90/100], Ошибка: 0.0064. Ошибка в млн. рублей: 1.2630\n",
            "Эпоха: [91/100], Ошибка: 0.0093. Ошибка в млн. рублей: 1.4290\n",
            "Эпоха: [92/100], Ошибка: 0.0098. Ошибка в млн. рублей: 1.3980\n",
            "Эпоха: [93/100], Ошибка: 0.0055. Ошибка в млн. рублей: 1.3370\n",
            "Эпоха: [94/100], Ошибка: 0.0048. Ошибка в млн. рублей: 1.2750\n",
            "Эпоха: [95/100], Ошибка: 0.0061. Ошибка в млн. рублей: 1.3580\n",
            "Эпоха: [96/100], Ошибка: 0.0125. Ошибка в млн. рублей: 1.3630\n",
            "Эпоха: [97/100], Ошибка: 0.0091. Ошибка в млн. рублей: 1.5080\n",
            "Эпоха: [98/100], Ошибка: 0.0075. Ошибка в млн. рублей: 1.3840\n",
            "Эпоха: [99/100], Ошибка: 0.0041. Ошибка в млн. рублей: 1.4630\n",
            "Эпоха: [100/100], Ошибка: 0.0049. Ошибка в млн. рублей: 1.3290\n"
          ],
          "name": "stdout"
        },
        {
          "output_type": "display_data",
          "data": {
            "image/png": "[encoded data removed]",
            "text/plain": [
              "<Figure size 432x288 with 1 Axes>"
            ]
          },
          "metadata": {
            "tags": [],
            "needs_background": "light"
          }
        }
      ]
    },
    {
      "cell_type": "code",
      "metadata": {
        "id": "g38UJiJNi6mM"
      },
      "source": [
        ""
      ],
      "execution_count": null,
      "outputs": []
    }
  ]
}